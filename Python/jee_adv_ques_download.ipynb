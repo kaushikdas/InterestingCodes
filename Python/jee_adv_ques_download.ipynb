{
 "cells": [
  {
   "cell_type": "code",
   "execution_count": 7,
   "metadata": {},
   "outputs": [],
   "source": [
    "import requests\n"
   ]
  },
  {
   "cell_type": "code",
   "execution_count": 8,
   "metadata": {},
   "outputs": [],
   "source": [
    "base = 'https://jeeadv.ac.in/past_qps/'\n"
   ]
  },
  {
   "cell_type": "code",
   "execution_count": 11,
   "metadata": {},
   "outputs": [
    {
     "data": {
      "text/plain": [
       "['2007_1.pdf',\n",
       " '2007_2.pdf',\n",
       " '2008_1.pdf',\n",
       " '2008_2.pdf',\n",
       " '2009_1.pdf',\n",
       " '2009_2.pdf',\n",
       " '2010_1.pdf',\n",
       " '2010_2.pdf',\n",
       " '2011_1.pdf',\n",
       " '2011_2.pdf',\n",
       " '2012_1.pdf',\n",
       " '2012_2.pdf',\n",
       " '2013_1.pdf',\n",
       " '2013_2.pdf',\n",
       " '2014_1.pdf',\n",
       " '2014_2.pdf',\n",
       " '2015_1.pdf',\n",
       " '2015_2.pdf',\n",
       " '2016_1.pdf',\n",
       " '2016_2.pdf',\n",
       " '2017_1.pdf',\n",
       " '2017_2.pdf',\n",
       " '2018_1.pdf',\n",
       " '2018_2.pdf',\n",
       " '2019_1_English.pdf',\n",
       " '2019_2_English.pdf',\n",
       " '2020_1_English.pdf',\n",
       " '2020_2_English.pdf',\n",
       " '2021_1_English.pdf',\n",
       " '2021_2_English.pdf',\n",
       " '2022_1_English.pdf',\n",
       " '2022_2_English.pdf']"
      ]
     },
     "execution_count": 11,
     "metadata": {},
     "output_type": "execute_result"
    }
   ],
   "source": [
    "file_names = [str(x) + '_' + str(y) + '_English.pdf' if x > 2018 else \n",
    "        str(x) + '_' + str(y) + '.pdf' \n",
    "        for x in range(2007, 2023) \n",
    "        for y in [1, 2]]\n"
   ]
  },
  {
   "cell_type": "code",
   "execution_count": 19,
   "metadata": {},
   "outputs": [],
   "source": [
    "def download():\n",
    "  for f in file_names:\n",
    "    res = requests.get(base+f)\n",
    "    try:\n",
    "      res.raise_for_status()\n",
    "      print(f'Saving downloaded file {base+f}...')\n",
    "      local_file_name = 'jee_adv_' + f.replace('_English.pdf', '.pdf')\n",
    "      pdf_file = open(local_file_name, 'wb')\n",
    "      for chunk in res.iter_content(chunk_size=100000):\n",
    "        pdf_file.write(chunk)\n",
    "      pdf_file.close()\n",
    "    except Exception as ex:\n",
    "      print(f'There was a problem: {ex} while downloading {base+f}!')\n",
    "  print('\\nDOWNLOAD COMPLETE!\\n')\n"
   ]
  },
  {
   "cell_type": "code",
   "execution_count": 20,
   "metadata": {},
   "outputs": [
    {
     "name": "stdout",
     "output_type": "stream",
     "text": [
      "Saving downloaded file https://jeeadv.ac.in/past_qps/2007_1.pdf...\n",
      "Saving downloaded file https://jeeadv.ac.in/past_qps/2007_2.pdf...\n",
      "Saving downloaded file https://jeeadv.ac.in/past_qps/2008_1.pdf...\n",
      "Saving downloaded file https://jeeadv.ac.in/past_qps/2008_2.pdf...\n",
      "Saving downloaded file https://jeeadv.ac.in/past_qps/2009_1.pdf...\n",
      "Saving downloaded file https://jeeadv.ac.in/past_qps/2009_2.pdf...\n",
      "Saving downloaded file https://jeeadv.ac.in/past_qps/2010_1.pdf...\n",
      "Saving downloaded file https://jeeadv.ac.in/past_qps/2010_2.pdf...\n",
      "Saving downloaded file https://jeeadv.ac.in/past_qps/2011_1.pdf...\n",
      "Saving downloaded file https://jeeadv.ac.in/past_qps/2011_2.pdf...\n",
      "Saving downloaded file https://jeeadv.ac.in/past_qps/2012_1.pdf...\n",
      "Saving downloaded file https://jeeadv.ac.in/past_qps/2012_2.pdf...\n",
      "Saving downloaded file https://jeeadv.ac.in/past_qps/2013_1.pdf...\n",
      "Saving downloaded file https://jeeadv.ac.in/past_qps/2013_2.pdf...\n",
      "Saving downloaded file https://jeeadv.ac.in/past_qps/2014_1.pdf...\n",
      "Saving downloaded file https://jeeadv.ac.in/past_qps/2014_2.pdf...\n",
      "Saving downloaded file https://jeeadv.ac.in/past_qps/2015_1.pdf...\n",
      "Saving downloaded file https://jeeadv.ac.in/past_qps/2015_2.pdf...\n",
      "Saving downloaded file https://jeeadv.ac.in/past_qps/2016_1.pdf...\n",
      "Saving downloaded file https://jeeadv.ac.in/past_qps/2016_2.pdf...\n",
      "Saving downloaded file https://jeeadv.ac.in/past_qps/2017_1.pdf...\n",
      "Saving downloaded file https://jeeadv.ac.in/past_qps/2017_2.pdf...\n",
      "Saving downloaded file https://jeeadv.ac.in/past_qps/2018_1.pdf...\n",
      "Saving downloaded file https://jeeadv.ac.in/past_qps/2018_2.pdf...\n",
      "Saving downloaded file https://jeeadv.ac.in/past_qps/2019_1_English.pdf...\n",
      "Saving downloaded file https://jeeadv.ac.in/past_qps/2019_2_English.pdf...\n",
      "Saving downloaded file https://jeeadv.ac.in/past_qps/2020_1_English.pdf...\n",
      "Saving downloaded file https://jeeadv.ac.in/past_qps/2020_2_English.pdf...\n",
      "Saving downloaded file https://jeeadv.ac.in/past_qps/2021_1_English.pdf...\n",
      "Saving downloaded file https://jeeadv.ac.in/past_qps/2021_2_English.pdf...\n",
      "Saving downloaded file https://jeeadv.ac.in/past_qps/2022_1_English.pdf...\n",
      "Saving downloaded file https://jeeadv.ac.in/past_qps/2022_2_English.pdf...\n",
      "\n",
      "DOWNLOAD COMPLETE!\n",
      "\n"
     ]
    }
   ],
   "source": [
    "download()\n"
   ]
  }
 ],
 "metadata": {
  "kernelspec": {
   "display_name": "base",
   "language": "python",
   "name": "python3"
  },
  "language_info": {
   "codemirror_mode": {
    "name": "ipython",
    "version": 3
   },
   "file_extension": ".py",
   "mimetype": "text/x-python",
   "name": "python",
   "nbconvert_exporter": "python",
   "pygments_lexer": "ipython3",
   "version": "3.8.8"
  },
  "orig_nbformat": 4
 },
 "nbformat": 4,
 "nbformat_minor": 2
}
