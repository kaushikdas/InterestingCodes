{
 "cells": [
  {
   "cell_type": "code",
   "execution_count": 2,
   "metadata": {},
   "outputs": [],
   "source": [
    "import requests\n"
   ]
  },
  {
   "cell_type": "code",
   "execution_count": 5,
   "metadata": {},
   "outputs": [],
   "source": [
    "url_set = [\n",
    "('https://nta.ac.in/Download/ExamPaper/Paper_20230320112124.pdf', 'jee_mains_2022-06-24_s1.pdf'),\n",
    "('https://nta.ac.in/Download/ExamPaper/Paper_20230320113108.pdf', 'jee_mains_2022-06-24_s2.pdf'),\n",
    "('https://nta.ac.in/Download/ExamPaper/Paper_20230320120251.pdf', 'jee_mains_2022-06-25_s1.pdf'),\n",
    "('https://nta.ac.in/Download/ExamPaper/Paper_20230320124553.pdf', 'jee_mains_2022-06-25_s2.pdf'),\n",
    "('https://nta.ac.in/Download/ExamPaper/Paper_20230320130740.pdf', 'jee_mains_2022-06-26_s1.pdf'),\n",
    "('https://nta.ac.in/Download/ExamPaper/Paper_20230320131539.pdf', 'jee_mains_2022-06-26_s2.pdf'),\n",
    "('https://nta.ac.in/Download/ExamPaper/Paper_20230320133453.pdf', 'jee_mains_2022-06-27_s1_1.pdf'),\n",
    "('https://nta.ac.in/Download/ExamPaper/Paper_20230320133528.pdf', 'jee_mains_2022-06-27_s1_2.pdf'),\n",
    "('https://nta.ac.in/Download/ExamPaper/Paper_20230320144939.pdf', 'jee_mains_2022-06-27_s2_1.pdf'),\n",
    "('https://nta.ac.in/Download/ExamPaper/Paper_20230322111449.pdf', 'jee_mains_2022-06-27_s2_2.pdf'),\n",
    "('https://nta.ac.in/Download/ExamPaper/Paper_20230321125442.pdf', 'jee_mains_2022-06-28_s1_1.pdf'),\n",
    "('https://nta.ac.in/Download/ExamPaper/Paper_20230322113147.pdf', 'jee_mains_2022-06-28_s1_2.pdf'),\n",
    "('https://nta.ac.in/Download/ExamPaper/Paper_20230322124511.pdf', 'jee_mains_2022-06-28_s2_1.pdf'),\n",
    "('https://nta.ac.in/Download/ExamPaper/Paper_20230322130815.pdf', 'jee_mains_2022-06-29_s1_1.pdf'),\n",
    "('https://nta.ac.in/Download/ExamPaper/Paper_20230322131758.pdf', 'jee_mains_2022-06-29_s2.pdf'),\n",
    "('https://nta.ac.in/Download/ExamPaper/Paper_20230322131845.pdf', 'jee_mains_2022-06-29_s1_2.pdf'),\n",
    "('https://nta.ac.in/Download/ExamPaper/Paper_20230322132723.pdf', 'jee_mains_2022-06-30_s1.pdf'),\n",
    "('https://nta.ac.in/Download/ExamPaper/Paper_20230323110141.pdf', 'jee_mains_2022-07-25_s1.pdf'),\n",
    "('https://nta.ac.in/Download/ExamPaper/Paper_20230323111139.pdf', 'jee_mains_2022-07-25_s2.pdf'),\n",
    "('https://nta.ac.in/Download/ExamPaper/Paper_20230323113530.pdf', 'jee_mains_2022-07-26_s1.pdf'),\n",
    "('https://nta.ac.in/Download/ExamPaper/Paper_20230323115506.pdf', 'jee_mains_2022-07-26_s2.pdf'),\n",
    "('https://nta.ac.in/Download/ExamPaper/Paper_20230323120502.pdf', 'jee_mains_2022-07-27_s1.pdf'),\n",
    "('https://nta.ac.in/Download/ExamPaper/Paper_20230323121459.pdf', 'jee_mains_2022-07-27_s2.pdf'),\n",
    "('https://nta.ac.in/Download/ExamPaper/Paper_20230323122245.pdf', 'jee_mains_2022-07-28_s1.pdf'),\n",
    "('https://nta.ac.in/Download/ExamPaper/Paper_20230323123259.pdf', 'jee_mains_2022-07-28_s2.pdf'),\n",
    "('https://nta.ac.in/Download/ExamPaper/Paper_20230323132111.pdf', 'jee_mains_2022-07-29_s1.pdf'),\n",
    "('https://nta.ac.in/Download/ExamPaper/Paper_20230323134838.pdf', 'jee_mains_2022-07-29_s2_1.pdf'),\n",
    "('https://nta.ac.in/Download/ExamPaper/Paper_20230323135930.pdf', 'jee_mains_2022-07-29_s2_2.pdf'),\n",
    "('https://nta.ac.in/Download/ExamPaper/Paper_20230323140734.pdf', 'jee_mains_2022-07-29_s2_3.pdf'),\n",
    "('https://nta.ac.in/Download/ExamPaper/Paper_20230323142211.pdf', 'jee_mains_2022-07-30_s2.pdf'),\n",
    "('https://nta.ac.in/Download/ExamPaper/Paper_20210322114016.pdf', 'jee_mains_2021-02-24_s1.pdf'),\n",
    "('https://nta.ac.in/Download/ExamPaper/Paper_20210322120452.pdf', 'jee_mains_2021-02-26_s1.pdf'),\n",
    "('https://nta.ac.in/Download/ExamPaper/Paper_20210322121605.pdf', 'jee_mains_2021-02-25_s1.pdf'),\n",
    "('https://nta.ac.in/Download/ExamPaper/Paper_20210322122525.pdf', 'jee_mains_2021-02-26_s2.pdf'),\n",
    "('https://nta.ac.in/Download/ExamPaper/Paper_20210322123724.pdf', 'jee_mains_2021-02-25_s2.pdf'),\n",
    "]"
   ]
  },
  {
   "cell_type": "code",
   "execution_count": 6,
   "metadata": {},
   "outputs": [],
   "source": [
    "def download(url_set):\n",
    "  for e in url_set:\n",
    "    res = requests.get(e[0])\n",
    "    try:\n",
    "      res.raise_for_status()\n",
    "      print(f'Saving downloaded file {e[0]}...')\n",
    "      local_file_name = e[1]\n",
    "      pdf_file = open(local_file_name, 'wb')\n",
    "      for chunk in res.iter_content(chunk_size=100000):\n",
    "        pdf_file.write(chunk)\n",
    "      pdf_file.close()\n",
    "    except Exception as ex:\n",
    "      print(f'There was a problem: {ex} while downloading {e[0]}!')\n",
    "  print('\\nDOWNLOAD COMPLETE!\\n')\n"
   ]
  },
  {
   "cell_type": "code",
   "execution_count": 7,
   "metadata": {},
   "outputs": [
    {
     "name": "stdout",
     "output_type": "stream",
     "text": [
      "Saving downloaded file https://nta.ac.in/Download/ExamPaper/Paper_20230320112124.pdf...\n",
      "Saving downloaded file https://nta.ac.in/Download/ExamPaper/Paper_20230320113108.pdf...\n",
      "Saving downloaded file https://nta.ac.in/Download/ExamPaper/Paper_20230320120251.pdf...\n",
      "Saving downloaded file https://nta.ac.in/Download/ExamPaper/Paper_20230320124553.pdf...\n",
      "Saving downloaded file https://nta.ac.in/Download/ExamPaper/Paper_20230320130740.pdf...\n",
      "Saving downloaded file https://nta.ac.in/Download/ExamPaper/Paper_20230320131539.pdf...\n",
      "Saving downloaded file https://nta.ac.in/Download/ExamPaper/Paper_20230320133453.pdf...\n",
      "Saving downloaded file https://nta.ac.in/Download/ExamPaper/Paper_20230320133528.pdf...\n",
      "Saving downloaded file https://nta.ac.in/Download/ExamPaper/Paper_20230320144939.pdf...\n",
      "Saving downloaded file https://nta.ac.in/Download/ExamPaper/Paper_20230322111449.pdf...\n",
      "Saving downloaded file https://nta.ac.in/Download/ExamPaper/Paper_20230321125442.pdf...\n",
      "Saving downloaded file https://nta.ac.in/Download/ExamPaper/Paper_20230322113147.pdf...\n",
      "Saving downloaded file https://nta.ac.in/Download/ExamPaper/Paper_20230322124511.pdf...\n",
      "Saving downloaded file https://nta.ac.in/Download/ExamPaper/Paper_20230322130815.pdf...\n",
      "Saving downloaded file https://nta.ac.in/Download/ExamPaper/Paper_20230322131758.pdf...\n",
      "Saving downloaded file https://nta.ac.in/Download/ExamPaper/Paper_20230322131845.pdf...\n",
      "Saving downloaded file https://nta.ac.in/Download/ExamPaper/Paper_20230322132723.pdf...\n",
      "Saving downloaded file https://nta.ac.in/Download/ExamPaper/Paper_20230323110141.pdf...\n",
      "Saving downloaded file https://nta.ac.in/Download/ExamPaper/Paper_20230323111139.pdf...\n",
      "Saving downloaded file https://nta.ac.in/Download/ExamPaper/Paper_20230323113530.pdf...\n",
      "Saving downloaded file https://nta.ac.in/Download/ExamPaper/Paper_20230323115506.pdf...\n",
      "Saving downloaded file https://nta.ac.in/Download/ExamPaper/Paper_20230323120502.pdf...\n",
      "Saving downloaded file https://nta.ac.in/Download/ExamPaper/Paper_20230323121459.pdf...\n",
      "Saving downloaded file https://nta.ac.in/Download/ExamPaper/Paper_20230323122245.pdf...\n",
      "Saving downloaded file https://nta.ac.in/Download/ExamPaper/Paper_20230323123259.pdf...\n",
      "Saving downloaded file https://nta.ac.in/Download/ExamPaper/Paper_20230323132111.pdf...\n",
      "Saving downloaded file https://nta.ac.in/Download/ExamPaper/Paper_20230323134838.pdf...\n",
      "Saving downloaded file https://nta.ac.in/Download/ExamPaper/Paper_20230323135930.pdf...\n",
      "Saving downloaded file https://nta.ac.in/Download/ExamPaper/Paper_20230323140734.pdf...\n",
      "Saving downloaded file https://nta.ac.in/Download/ExamPaper/Paper_20230323142211.pdf...\n",
      "Saving downloaded file https://nta.ac.in/Download/ExamPaper/Paper_20210322114016.pdf...\n",
      "Saving downloaded file https://nta.ac.in/Download/ExamPaper/Paper_20210322120452.pdf...\n",
      "Saving downloaded file https://nta.ac.in/Download/ExamPaper/Paper_20210322121605.pdf...\n",
      "Saving downloaded file https://nta.ac.in/Download/ExamPaper/Paper_20210322122525.pdf...\n",
      "Saving downloaded file https://nta.ac.in/Download/ExamPaper/Paper_20210322123724.pdf...\n",
      "\n",
      "DOWNLOAD COMPLETE!\n",
      "\n"
     ]
    }
   ],
   "source": [
    "download(url_set)\n"
   ]
  }
 ],
 "metadata": {
  "kernelspec": {
   "display_name": "base",
   "language": "python",
   "name": "python3"
  },
  "language_info": {
   "codemirror_mode": {
    "name": "ipython",
    "version": 3
   },
   "file_extension": ".py",
   "mimetype": "text/x-python",
   "name": "python",
   "nbconvert_exporter": "python",
   "pygments_lexer": "ipython3",
   "version": "3.8.8"
  },
  "orig_nbformat": 4
 },
 "nbformat": 4,
 "nbformat_minor": 2
}
