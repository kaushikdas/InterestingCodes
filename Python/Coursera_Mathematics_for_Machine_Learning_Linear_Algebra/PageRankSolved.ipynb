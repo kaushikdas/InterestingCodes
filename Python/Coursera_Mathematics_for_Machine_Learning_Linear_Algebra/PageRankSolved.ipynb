{
 "cells": [
  {
   "cell_type": "markdown",
   "metadata": {
    "collapsed": true
   },
   "source": [
    "# PageRank\n",
    "In this notebook, you'll build on your knowledge of eigenvectors and eigenvalues by exploring the PageRank algorithm.\n",
    "The notebook is in two parts, the first is a worksheet to get you up to speed with how the algorithm works - here we will look at a micro-internet with fewer than 10 websites and see what it does and what can go wrong.\n",
    "The second is an assessment which will test your application of eigentheory to this problem by writing code and calculating the page rank of a large network representing a sub-section of the internet."
   ]
  },
  {
   "cell_type": "markdown",
   "metadata": {},
   "source": [
    "## Part 1 - Worksheet\n",
    "### Introduction\n",
    "\n",
    "PageRank (developed by Larry Page and Sergey Brin) revolutionized web search by generating a\n",
    "ranked list of web pages based on the underlying connectivity of the web. The PageRank algorithm is\n",
    "based on an ideal random web surfer who, when reaching a page, goes to the next page by clicking on a\n",
    "link. The surfer has equal probability of clicking any link on the page and, when reaching a page with no\n",
    "links, has equal probability of moving to any other page by typing in its URL. In addition, the surfer may\n",
    "occasionally choose to type in a random URL instead of following the links on a page. The PageRank is\n",
    "the ranked order of the pages from the most to the least probable page the surfer will be viewing.\n"
   ]
  },
  {
   "cell_type": "code",
   "execution_count": 2,
   "metadata": {},
   "outputs": [
    {
     "name": "stdout",
     "output_type": "stream",
     "text": [
      "Populating the interactive namespace from numpy and matplotlib\n"
     ]
    }
   ],
   "source": [
    "# Before we begin, let's load the libraries.\n",
    "%pylab notebook\n",
    "import numpy as np\n",
    "import numpy.linalg as la\n",
    "from readonly.PageRankFunctions import *\n",
    "np.set_printoptions(suppress=True)"
   ]
  },
  {
   "cell_type": "markdown",
   "metadata": {},
   "source": [
    "### PageRank as a linear algebra problem\n",
    "Let's imagine a micro-internet, with just 6 websites (**A**vocado, **B**ullseye, **C**atBabel, **D**romeda, **e**Tings, and **F**aceSpace).\n",
    "Each website links to some of the others, and this forms a network as shown,\n",
    "\n",
    "![A Micro-Internet](readonly/internet.png \"A Micro-Internet\")\n",
    "\n",
    "The design principle of PageRank is that important websites will be linked to by important websites.\n",
    "This somewhat recursive principle will form the basis of our thinking.\n",
    "\n",
    "Imagine we have 100 *Procrastinating Pat*s on our micro-internet, each viewing a single website at a time.\n",
    "Each minute the Pats follow a link on their website to another site on the micro-internet.\n",
    "After a while, the websites that are most linked to will have more Pats visiting them, and in the long run, each minute for every Pat that leaves a website, another will enter keeping the total numbers of Pats on each website constant.\n",
    "The PageRank is simply the ranking of websites by how many Pats they have on them at the end of this process.\n",
    "\n",
    "We represent the number of Pats on each website with the vector,\n",
    "$$\\mathbf{r} = \\begin{bmatrix} r_A \\\\ r_B \\\\ r_C \\\\ r_D \\\\ r_E \\\\ r_F \\end{bmatrix}$$\n",
    "And say that the number of Pats on each website in minute $i+1$ is related to those at minute $i$ by the matrix transformation\n",
    "\n",
    "$$ \\mathbf{r}^{(i+1)} = L \\,\\mathbf{r}^{(i)}$$\n",
    "with the matrix $L$ taking the form,\n",
    "$$ L = \\begin{bmatrix}\n",
    "L_{A→A} & L_{B→A} & L_{C→A} & L_{D→A} & L_{E→A} & L_{F→A} \\\\\n",
    "L_{A→B} & L_{B→B} & L_{C→B} & L_{D→B} & L_{E→B} & L_{F→B} \\\\\n",
    "L_{A→C} & L_{B→C} & L_{C→C} & L_{D→C} & L_{E→C} & L_{F→C} \\\\\n",
    "L_{A→D} & L_{B→D} & L_{C→D} & L_{D→D} & L_{E→D} & L_{F→D} \\\\\n",
    "L_{A→E} & L_{B→E} & L_{C→E} & L_{D→E} & L_{E→E} & L_{F→E} \\\\\n",
    "L_{A→F} & L_{B→F} & L_{C→F} & L_{D→F} & L_{E→F} & L_{F→F} \\\\\n",
    "\\end{bmatrix}\n",
    "$$\n",
    "where the columns represent the probability of leaving a website for any other website, and sum to one.\n",
    "The rows determine how likely you are to enter a website from any other, though these need not add to one.\n",
    "The long time behaviour of this system is when $ \\mathbf{r}^{(i+1)} = \\mathbf{r}^{(i)}$, so we'll drop the superscripts here, and that allows us to write,\n",
    "$$ L \\,\\mathbf{r} = \\mathbf{r}$$\n",
    "\n",
    "which is an eigenvalue equation for the matrix $L$, with eigenvalue 1 (this is guaranteed by the probabalistic structure of the matrix $L$).\n",
    "\n",
    "Complete the matrix $L$ below, we've left out the column for which websites the *FaceSpace* website (F) links to.\n",
    "Remember, this is the probability to click on another website from this one, so each column should add to one (by scaling by the number of links)."
   ]
  },
  {
   "cell_type": "code",
   "execution_count": 3,
   "metadata": {
    "collapsed": true
   },
   "outputs": [],
   "source": [
    "# Replace the ??? here with the probability of clicking a link to each website when leaving Website F (FaceSpace).\n",
    "L = np.array([[0,   1/2, 1/3, 0, 0,   0   ],\n",
    "              [1/3, 0,   0,   0, 1/2, 0   ],\n",
    "              [1/3, 1/2, 0,   1, 0,   1/2 ],\n",
    "              [1/3, 0,   1/3, 0, 1/2, 1/2 ],\n",
    "              [0,   0,   0,   0, 0,   0   ],\n",
    "              [0,   0,   1/3, 0, 0,   0   ]])"
   ]
  },
  {
   "cell_type": "markdown",
   "metadata": {},
   "source": [
    "In principle, we could use a linear algebra library, as below, to calculate the eigenvalues and vectors.\n",
    "And this would work for a small system. But this gets unmanagable for large systems.\n",
    "And since we only care about the principal eigenvector (the one with the largest eigenvalue, which will be 1 in this case), we can use the *power iteration method* which will scale better, and is faster for large systems.\n",
    "\n",
    "Use the code below to peek at the PageRank for this micro-internet."
   ]
  },
  {
   "cell_type": "code",
   "execution_count": 4,
   "metadata": {},
   "outputs": [
    {
     "data": {
      "text/plain": [
       "array([[ 0.30769231+0.j        ,  0.53116445+0.j        ,\n",
       "        -0.25448371-0.35792579j, -0.25448371+0.35792579j,\n",
       "        -0.29449150+0.j        , -0.80178373+0.j        ],\n",
       "       [ 0.10256410+0.j        ,  0.56356410+0.j        ,\n",
       "         0.02528834+0.23392751j,  0.02528834-0.23392751j,\n",
       "         0.42977236+0.j        ,  0.00000000+0.j        ],\n",
       "       [ 0.76923077+0.j        , -0.34471868+0.j        ,\n",
       "         0.70289147+0.j        ,  0.70289147-0.j        ,\n",
       "        -0.44286511+0.j        , -0.00000000+0.j        ],\n",
       "       [ 0.48717949+0.j        , -0.38426425+0.j        ,\n",
       "        -0.14510850+0.30796164j, -0.14510850-0.30796164j,\n",
       "        -0.33872028+0.j        ,  0.26726124+0.j        ],\n",
       "       [ 0.00000000+0.j        ,  0.00000000+0.j        ,\n",
       "         0.00000000+0.j        ,  0.00000000-0.j        ,\n",
       "         0.00000000+0.j        ,  0.53452248+0.j        ],\n",
       "       [ 0.25641026+0.j        , -0.36574562+0.j        ,\n",
       "        -0.32858759-0.18396336j, -0.32858759+0.18396336j,\n",
       "         0.64630452+0.j        , -0.00000000+0.j        ]])"
      ]
     },
     "execution_count": 4,
     "metadata": {},
     "output_type": "execute_result"
    }
   ],
   "source": [
    "eVals, eVecs = la.eig(L) # Gets the eigenvalues and vectors\n",
    "eVecs"
   ]
  },
  {
   "cell_type": "code",
   "execution_count": 5,
   "metadata": {},
   "outputs": [
    {
     "data": {
      "text/plain": [
       "array([ 1.        ,  0.31416979,  0.62217138,  0.62217138,  0.2284089 ,  0.        ])"
      ]
     },
     "execution_count": 5,
     "metadata": {},
     "output_type": "execute_result"
    }
   ],
   "source": [
    "np.absolute(eVals)"
   ]
  },
  {
   "cell_type": "code",
   "execution_count": 6,
   "metadata": {},
   "outputs": [
    {
     "data": {
      "text/plain": [
       "array([5, 4, 1, 2, 3, 0])"
      ]
     },
     "execution_count": 6,
     "metadata": {},
     "output_type": "execute_result"
    }
   ],
   "source": [
    "np.absolute(eVals).argsort()"
   ]
  },
  {
   "cell_type": "code",
   "execution_count": 7,
   "metadata": {},
   "outputs": [
    {
     "data": {
      "text/plain": [
       "array([0, 3, 2, 1, 4, 5])"
      ]
     },
     "execution_count": 7,
     "metadata": {},
     "output_type": "execute_result"
    }
   ],
   "source": [
    "np.absolute(eVals).argsort()[::-1]"
   ]
  },
  {
   "cell_type": "code",
   "execution_count": 8,
   "metadata": {},
   "outputs": [
    {
     "data": {
      "text/plain": [
       "array([ 1.00000000+0.j        , -0.54288045-0.30393757j,\n",
       "       -0.54288045+0.30393757j,  0.31416979+0.j        ,\n",
       "       -0.22840890+0.j        ,  0.00000000+0.j        ])"
      ]
     },
     "execution_count": 8,
     "metadata": {},
     "output_type": "execute_result"
    }
   ],
   "source": [
    "eVals = eVals[np.absolute(eVals).argsort()[::-1]]\n",
    "eVals"
   ]
  },
  {
   "cell_type": "code",
   "execution_count": 9,
   "metadata": {},
   "outputs": [
    {
     "data": {
      "text/plain": [
       "array([[ 0.30769231+0.j        ,  0.53116445+0.j        ,\n",
       "        -0.25448371-0.35792579j, -0.25448371+0.35792579j,\n",
       "        -0.29449150+0.j        , -0.80178373+0.j        ],\n",
       "       [ 0.10256410+0.j        ,  0.56356410+0.j        ,\n",
       "         0.02528834+0.23392751j,  0.02528834-0.23392751j,\n",
       "         0.42977236+0.j        ,  0.00000000+0.j        ],\n",
       "       [ 0.76923077+0.j        , -0.34471868+0.j        ,\n",
       "         0.70289147+0.j        ,  0.70289147-0.j        ,\n",
       "        -0.44286511+0.j        , -0.00000000+0.j        ],\n",
       "       [ 0.48717949+0.j        , -0.38426425+0.j        ,\n",
       "        -0.14510850+0.30796164j, -0.14510850-0.30796164j,\n",
       "        -0.33872028+0.j        ,  0.26726124+0.j        ],\n",
       "       [ 0.00000000+0.j        ,  0.00000000+0.j        ,\n",
       "         0.00000000+0.j        ,  0.00000000-0.j        ,\n",
       "         0.00000000+0.j        ,  0.53452248+0.j        ],\n",
       "       [ 0.25641026+0.j        , -0.36574562+0.j        ,\n",
       "        -0.32858759-0.18396336j, -0.32858759+0.18396336j,\n",
       "         0.64630452+0.j        , -0.00000000+0.j        ]])"
      ]
     },
     "execution_count": 9,
     "metadata": {},
     "output_type": "execute_result"
    }
   ],
   "source": [
    "order = np.absolute(eVals).argsort()[::-1]\n",
    "eVecs"
   ]
  },
  {
   "cell_type": "code",
   "execution_count": 10,
   "metadata": {},
   "outputs": [
    {
     "data": {
      "text/plain": [
       "array([[ 0.30769231+0.j        , -0.25448371-0.35792579j,\n",
       "         0.53116445+0.j        , -0.25448371+0.35792579j,\n",
       "        -0.29449150+0.j        , -0.80178373+0.j        ],\n",
       "       [ 0.10256410+0.j        ,  0.02528834+0.23392751j,\n",
       "         0.56356410+0.j        ,  0.02528834-0.23392751j,\n",
       "         0.42977236+0.j        ,  0.00000000+0.j        ],\n",
       "       [ 0.76923077+0.j        ,  0.70289147+0.j        ,\n",
       "        -0.34471868+0.j        ,  0.70289147-0.j        ,\n",
       "        -0.44286511+0.j        , -0.00000000+0.j        ],\n",
       "       [ 0.48717949+0.j        , -0.14510850+0.30796164j,\n",
       "        -0.38426425+0.j        , -0.14510850-0.30796164j,\n",
       "        -0.33872028+0.j        ,  0.26726124+0.j        ],\n",
       "       [ 0.00000000+0.j        ,  0.00000000+0.j        ,\n",
       "         0.00000000+0.j        ,  0.00000000-0.j        ,\n",
       "         0.00000000+0.j        ,  0.53452248+0.j        ],\n",
       "       [ 0.25641026+0.j        , -0.32858759-0.18396336j,\n",
       "        -0.36574562+0.j        , -0.32858759+0.18396336j,\n",
       "         0.64630452+0.j        , -0.00000000+0.j        ]])"
      ]
     },
     "execution_count": 10,
     "metadata": {},
     "output_type": "execute_result"
    }
   ],
   "source": [
    "eVecs1 = eVecs[:, order]\n",
    "eVecs1"
   ]
  },
  {
   "cell_type": "code",
   "execution_count": 11,
   "metadata": {},
   "outputs": [
    {
     "data": {
      "text/plain": [
       "array([ 0.30769231+0.j,  0.10256410+0.j,  0.76923077+0.j,  0.48717949+0.j,\n",
       "        0.00000000+0.j,  0.25641026+0.j])"
      ]
     },
     "execution_count": 11,
     "metadata": {},
     "output_type": "execute_result"
    }
   ],
   "source": [
    "eVals, eVecs = la.eig(L) # Gets the eigenvalues and vectors\n",
    "order = np.absolute(eVals).argsort()[::-1] # Orders them by their eigenvalues\n",
    "eVals = eVals[order]\n",
    "eVecs = eVecs[:,order]\n",
    "\n",
    "r = eVecs[:, 0] # Sets r to be the principal eigenvector\n",
    "r"
   ]
  },
  {
   "cell_type": "code",
   "execution_count": 12,
   "metadata": {},
   "outputs": [
    {
     "data": {
      "text/plain": [
       "(1.9230769230769238+0j)"
      ]
     },
     "execution_count": 12,
     "metadata": {},
     "output_type": "execute_result"
    }
   ],
   "source": [
    "np.sum(r)"
   ]
  },
  {
   "cell_type": "code",
   "execution_count": 13,
   "metadata": {},
   "outputs": [
    {
     "data": {
      "text/plain": [
       "array([ 0.16000000+0.j,  0.05333333+0.j,  0.40000000+0.j,  0.25333333+0.j,\n",
       "        0.00000000+0.j,  0.13333333+0.j])"
      ]
     },
     "execution_count": 13,
     "metadata": {},
     "output_type": "execute_result"
    }
   ],
   "source": [
    "r/np.sum(r)"
   ]
  },
  {
   "cell_type": "code",
   "execution_count": 14,
   "metadata": {},
   "outputs": [
    {
     "data": {
      "text/plain": [
       "array([ 0.16      ,  0.05333333,  0.4       ,  0.25333333,  0.        ,\n",
       "        0.13333333])"
      ]
     },
     "execution_count": 14,
     "metadata": {},
     "output_type": "execute_result"
    }
   ],
   "source": [
    "np.real(r/np.sum(r))"
   ]
  },
  {
   "cell_type": "code",
   "execution_count": 15,
   "metadata": {},
   "outputs": [
    {
     "data": {
      "text/plain": [
       "array([ 16.        ,   5.33333333,  40.        ,  25.33333333,\n",
       "         0.        ,  13.33333333])"
      ]
     },
     "execution_count": 15,
     "metadata": {},
     "output_type": "execute_result"
    }
   ],
   "source": [
    "eVals, eVecs = la.eig(L) # Gets the eigenvalues and vectors\n",
    "order = np.absolute(eVals).argsort()[::-1] # Orders them by their eigenvalues\n",
    "eVals = eVals[order]\n",
    "eVecs = eVecs[:,order]\n",
    "\n",
    "r = eVecs[:, 0] # Sets r to be the principal eigenvector\n",
    "100 * np.real(r / np.sum(r)) # Make this eigenvector sum to one, then multiply by 100 Procrastinating Pats"
   ]
  },
  {
   "cell_type": "markdown",
   "metadata": {},
   "source": [
    "We can see from this list, the number of Procrastinating Pats that we expect to find on each website after long times.\n",
    "Putting them in order of *popularity* (based on this metric), the PageRank of this micro-internet is:\n",
    "\n",
    "**C**atBabel, **D**romeda, **A**vocado, **F**aceSpace, **B**ullseye, **e**Tings\n",
    "\n",
    "Referring back to the micro-internet diagram, is this what you would have expected?\n",
    "Convince yourself that based on which pages seem important given which others link to them, that this is a sensible ranking.\n",
    "\n",
    "Let's now try to get the same result using the Power-Iteration method that was covered in the video.\n",
    "This method will be much better at dealing with large systems.\n",
    "\n",
    "First let's set up our initial vector, $\\mathbf{r}^{(0)}$, so that we have our 100 Procrastinating Pats equally distributed on each of our 6 websites."
   ]
  },
  {
   "cell_type": "code",
   "execution_count": 16,
   "metadata": {},
   "outputs": [
    {
     "data": {
      "text/plain": [
       "array([ 16.66666667,  16.66666667,  16.66666667,  16.66666667,\n",
       "        16.66666667,  16.66666667])"
      ]
     },
     "execution_count": 16,
     "metadata": {},
     "output_type": "execute_result"
    }
   ],
   "source": [
    "r = 100 * np.ones(6) / 6 # Sets up this vector (6 entries of 1/6 × 100 each)\n",
    "r # Shows it's value"
   ]
  },
  {
   "cell_type": "markdown",
   "metadata": {},
   "source": [
    "Next, let's update the vector to the next minute, with the matrix $L$.\n",
    "Run the following cell multiple times, until the answer stabilises."
   ]
  },
  {
   "cell_type": "code",
   "execution_count": 17,
   "metadata": {},
   "outputs": [
    {
     "data": {
      "text/plain": [
       "array([ 13.88888889,  13.88888889,  38.88888889,  27.77777778,\n",
       "         0.        ,   5.55555556])"
      ]
     },
     "execution_count": 17,
     "metadata": {},
     "output_type": "execute_result"
    }
   ],
   "source": [
    "r = L @ r # Apply matrix L to r\n",
    "r # Show it's value\n",
    "# Re-run this cell multiple times to converge to the correct answer."
   ]
  },
  {
   "cell_type": "markdown",
   "metadata": {},
   "source": [
    "We can automate applying this matrix multiple times as follows,"
   ]
  },
  {
   "cell_type": "code",
   "execution_count": 18,
   "metadata": {},
   "outputs": [
    {
     "data": {
      "text/plain": [
       "array([ 16.        ,   5.33333333,  40.        ,  25.33333333,\n",
       "         0.        ,  13.33333333])"
      ]
     },
     "execution_count": 18,
     "metadata": {},
     "output_type": "execute_result"
    }
   ],
   "source": [
    "r = 100 * np.ones(6) / 6 # Sets up this vector (6 entries of 1/6 × 100 each)\n",
    "for i in np.arange(100) : # Repeat 100 times\n",
    "    r = L @ r\n",
    "r"
   ]
  },
  {
   "cell_type": "markdown",
   "metadata": {},
   "source": [
    "Or even better, we can keep running until we get to the required tolerance."
   ]
  },
  {
   "cell_type": "code",
   "execution_count": 19,
   "metadata": {},
   "outputs": [
    {
     "name": "stdout",
     "output_type": "stream",
     "text": [
      "18 iterations to convergence.\n"
     ]
    },
    {
     "data": {
      "text/plain": [
       "array([ 16.00149917,   5.33252025,  39.99916911,  25.3324738 ,\n",
       "         0.        ,  13.33433767])"
      ]
     },
     "execution_count": 19,
     "metadata": {},
     "output_type": "execute_result"
    }
   ],
   "source": [
    "r = 100 * np.ones(6) / 6 # Sets up this vector (6 entries of 1/6 × 100 each)\n",
    "lastR = r\n",
    "r = L @ r\n",
    "i = 0\n",
    "while la.norm(lastR - r) > 0.01 :\n",
    "    lastR = r\n",
    "    r = L @ r\n",
    "    i += 1\n",
    "print(str(i) + \" iterations to convergence.\")\n",
    "r"
   ]
  },
  {
   "cell_type": "markdown",
   "metadata": {},
   "source": [
    "See how the PageRank order is established fairly quickly, and the vector converges on the value we calculated earlier after a few tens of repeats.\n",
    "\n",
    "Congratulations! You've just calculated your first PageRank!"
   ]
  },
  {
   "cell_type": "markdown",
   "metadata": {},
   "source": [
    "### Damping Parameter\n",
    "The system we just studied converged fairly quickly to the correct answer.\n",
    "Let's consider an extension to our micro-internet where things start to go wrong.\n",
    "\n",
    "Say a new website is added to the micro-internet: *Geoff's* Website.\n",
    "This website is linked to by *FaceSpace* and only links to itself.\n",
    "![An Expanded Micro-Internet](readonly/internet2.png \"An Expanded Micro-Internet\")\n",
    "\n",
    "Intuitively, only *FaceSpace*, which is in the bottom half of the page rank, links to this website amongst the two others it links to,\n",
    "so we might expect *Geoff's* site to have a correspondingly low PageRank score.\n",
    "\n",
    "Build the new $L$ matrix for the expanded micro-internet, and use Power-Iteration on the Procrastinating Pat vector.\n",
    "See what happens…"
   ]
  },
  {
   "cell_type": "code",
   "execution_count": 24,
   "metadata": {},
   "outputs": [],
   "source": [
    " # We'll call this one L2, to distinguish it from the previous L.\n",
    "L2 = np.array([[0,   1/2, 1/3, 0, 0,   0,   0 ],\n",
    "               [1/3, 0,   0,   0, 1/2, 0,   0 ],\n",
    "               [1/3, 1/2, 0,   1, 0,   1/3, 0 ],\n",
    "               [1/3, 0,   1/3, 0, 1/2, 1/3, 0 ],\n",
    "               [0,   0,   0,   0, 0,   0,   0 ],\n",
    "               [0,   0,   1/3, 0, 0,   0,   0 ],\n",
    "               [0,   0,   0,   0, 0,   1/3, 1 ]])"
   ]
  },
  {
   "cell_type": "code",
   "execution_count": 25,
   "metadata": {},
   "outputs": [
    {
     "name": "stdout",
     "output_type": "stream",
     "text": [
      "131 iterations to convergence.\n"
     ]
    },
    {
     "data": {
      "text/plain": [
       "array([  0.03046998,   0.01064323,   0.07126612,   0.04423198,\n",
       "         0.        ,   0.02489342,  99.81849527])"
      ]
     },
     "execution_count": 25,
     "metadata": {},
     "output_type": "execute_result"
    }
   ],
   "source": [
    "r = 100 * np.ones(7) / 7 # Sets up this vector (6 entries of 1/6 × 100 each)\n",
    "lastR = r\n",
    "r = L2 @ r\n",
    "i = 0\n",
    "while la.norm(lastR - r) > 0.01 :\n",
    "    lastR = r\n",
    "    r = L2 @ r\n",
    "    i += 1\n",
    "print(str(i) + \" iterations to convergence.\")\n",
    "r"
   ]
  },
  {
   "cell_type": "markdown",
   "metadata": {},
   "source": [
    "That's no good! *Geoff* seems to be taking all the traffic on the micro-internet, and somehow coming at the top of the PageRank.\n",
    "This behaviour can be understood, because once a Pat get's to *Geoff's* Website, they can't leave, as all links head back to Geoff.\n",
    "\n",
    "To combat this, we can add a small probability that the Procrastinating Pats don't follow any link on a webpage, but instead visit a website on the micro-internet at random.\n",
    "We'll say the probability of them following a link is $d$ and the probability of choosing a random website is therefore $1-d$.\n",
    "We can use a new matrix to work out where the Pat's visit each minute.\n",
    "$$ M = d \\, L + \\frac{1-d}{n} \\, J $$\n",
    "where $J$ is an $n\\times n$ matrix where every element is one.\n",
    "\n",
    "If $d$ is one, we have the case we had previously, whereas if $d$ is zero, we will always visit a random webpage and therefore all webpages will be equally likely and equally ranked.\n",
    "For this extension to work best, $1-d$ should be somewhat small - though we won't go into a discussion about exactly how small.\n",
    "\n",
    "Let's retry this PageRank with this extension."
   ]
  },
  {
   "cell_type": "code",
   "execution_count": 22,
   "metadata": {
    "collapsed": true
   },
   "outputs": [],
   "source": [
    "d = 0.5 # Feel free to play with this parameter after running the code once.\n",
    "M = d * L2 + (1-d)/7 * np.ones([7, 7]) # np.ones() is the J matrix, with ones for each entry."
   ]
  },
  {
   "cell_type": "code",
   "execution_count": 23,
   "metadata": {},
   "outputs": [
    {
     "name": "stdout",
     "output_type": "stream",
     "text": [
      "8 iterations to convergence.\n"
     ]
    },
    {
     "data": {
      "text/plain": [
       "array([ 13.68217054,  11.20902965,  22.41964343,  16.7593433 ,\n",
       "         7.14285714,  10.87976354,  17.90719239])"
      ]
     },
     "execution_count": 23,
     "metadata": {},
     "output_type": "execute_result"
    }
   ],
   "source": [
    "r = 100 * np.ones(7) / 7 # Sets up this vector (6 entries of 1/6 × 100 each)\n",
    "lastR = r\n",
    "r = M @ r\n",
    "i = 0\n",
    "while la.norm(lastR - r) > 0.01 :\n",
    "    lastR = r\n",
    "    r = M @ r\n",
    "    i += 1\n",
    "print(str(i) + \" iterations to convergence.\")\n",
    "r"
   ]
  },
  {
   "cell_type": "markdown",
   "metadata": {},
   "source": [
    "This is certainly better, the PageRank gives sensible numbers for the Procrastinating Pats that end up on each webpage.\n",
    "This method still predicts Geoff has a high ranking webpage however.\n",
    "This could be seen as a consequence of using a small network. We could also get around the problem by not counting self-links when producing the L matrix (an if a website has no outgoing links, make it link to all websites equally).\n",
    "We won't look further down this route, as this is in the realm of improvements to PageRank, rather than eigenproblems.\n",
    "\n",
    "You are now in a good position, having gained an understanding of PageRank, to produce your own code to calculate the PageRank of a website with thousands of entries.\n",
    "\n",
    "Good Luck!"
   ]
  },
  {
   "cell_type": "markdown",
   "metadata": {},
   "source": [
    "## Part 2 - Assessment\n",
    "In this assessment, you will be asked to produce a function that can calculate the PageRank for an arbitrarily large probability matrix.\n",
    "This, the final assignment of the course, will give less guidance than previous assessments.\n",
    "You will be expected to utilise code from earlier in the worksheet and re-purpose it to your needs.\n",
    "\n",
    "### How to submit\n",
    "Edit the code in the cell below to complete the assignment.\n",
    "Once you are finished and happy with it, press the *Submit Assignment* button at the top of this notebook.\n",
    "\n",
    "Please don't change any of the function names, as these will be checked by the grading script.\n",
    "\n",
    "If you have further questions about submissions or programming assignments, here is a [list](https://www.coursera.org/learn/linear-algebra-machine-learning/discussions/weeks/1/threads/jB4klkn5EeibtBIQyzFmQg) of Q&A. You can also raise an issue on the discussion forum. Good luck!"
   ]
  },
  {
   "cell_type": "code",
   "execution_count": 40,
   "metadata": {
    "collapsed": true
   },
   "outputs": [],
   "source": [
    "# PACKAGE\n",
    "# Here are the imports again, just in case you need them.\n",
    "# There is no need to edit or submit this cell.\n",
    "import numpy as np\n",
    "import numpy.linalg as la\n",
    "from readonly.PageRankFunctions import *\n",
    "np.set_printoptions(suppress=True)"
   ]
  },
  {
   "cell_type": "code",
   "execution_count": 41,
   "metadata": {
    "collapsed": true
   },
   "outputs": [],
   "source": [
    "# GRADED FUNCTION\n",
    "# Complete this function to provide the PageRank for an arbitrarily sized internet.\n",
    "# I.e. the principal eigenvector of the damped system, using the power iteration method.\n",
    "# (Normalisation doesn't matter here)\n",
    "# The functions inputs are the linkMatrix, and d the damping parameter - as defined in this worksheet.\n",
    "# (The damping parameter, d, will be set by the function - no need to set this yourself.)\n",
    "def pageRank(linkMatrix, d) :\n",
    "    n = linkMatrix.shape[0]\n",
    "    M = d * linkMatrix + (1-d)/n * np.ones([n, n]) # np.ones() is the J matrix, with ones for each entry.\n",
    "    r = 100 * np.ones(n) / n # Sets up this vector (n entries of 1/n × 100 each)\n",
    "    lastR = r\n",
    "    r = M @ r\n",
    "    i = 0\n",
    "    while la.norm(lastR - r) > 0.01 :\n",
    "        lastR = r\n",
    "        r = M @ r\n",
    "        i += 1\n",
    "    print(str(i) + \" iterations to convergence.\")\n",
    "    r\n",
    "    return r\n"
   ]
  },
  {
   "cell_type": "markdown",
   "metadata": {},
   "source": [
    "## Test your code before submission\n",
    "To test the code you've written above, run the cell (select the cell above, then press the play button [ ▶| ] or press shift-enter).\n",
    "You can then use the code below to test out your function.\n",
    "You don't need to submit this cell; you can edit and run it as much as you like."
   ]
  },
  {
   "cell_type": "code",
   "execution_count": 42,
   "metadata": {},
   "outputs": [
    {
     "data": {
      "text/plain": [
       "array([[ 0.2,  0. ,  0. ,  0. ,  0. ],\n",
       "       [ 0.2,  0. ,  0. ,  0. ,  0. ],\n",
       "       [ 0.2,  0. ,  1. ,  0. ,  0. ],\n",
       "       [ 0.2,  1. ,  0. ,  0.5,  1. ],\n",
       "       [ 0.2,  0. ,  0. ,  0.5,  0. ]])"
      ]
     },
     "execution_count": 42,
     "metadata": {},
     "output_type": "execute_result"
    }
   ],
   "source": [
    "# Use the following function to generate internets of different sizes.\n",
    "generate_internet(5)"
   ]
  },
  {
   "cell_type": "code",
   "execution_count": 43,
   "metadata": {
    "collapsed": true
   },
   "outputs": [],
   "source": [
    "# Test your PageRank method against the built in \"eig\" method.\n",
    "# You should see yours is a lot faster for large internets\n",
    "L = generate_internet(10)"
   ]
  },
  {
   "cell_type": "code",
   "execution_count": 44,
   "metadata": {},
   "outputs": [
    {
     "name": "stdout",
     "output_type": "stream",
     "text": [
      "29 iterations to convergence.\n"
     ]
    },
    {
     "data": {
      "text/plain": [
       "array([ 59.9772051 ,   0.0076909 ,   0.00211483,   0.00846947,\n",
       "         0.00128278,   0.00128278,   0.00219728,  39.99008706,\n",
       "         0.00128278,   0.00838702])"
      ]
     },
     "execution_count": 44,
     "metadata": {},
     "output_type": "execute_result"
    }
   ],
   "source": [
    "pageRank(L, 1)"
   ]
  },
  {
   "cell_type": "code",
   "execution_count": 45,
   "metadata": {},
   "outputs": [
    {
     "data": {
      "text/plain": [
       "array([ 59.99997733,   0.00000007,   0.00000003,   0.00000008,\n",
       "         0.00000002,   0.00000002,   0.00000003,  40.00002232,\n",
       "         0.00000002,   0.00000008])"
      ]
     },
     "execution_count": 45,
     "metadata": {},
     "output_type": "execute_result"
    }
   ],
   "source": [
    "# Do note, this is calculating the eigenvalues of the link matrix, L,\n",
    "# without any damping. It may give different results that your pageRank function.\n",
    "# If you wish, you could modify this cell to include damping.\n",
    "# (There is no credit for this though)\n",
    "eVals, eVecs = la.eig(L) # Gets the eigenvalues and vectors\n",
    "order = np.absolute(eVals).argsort()[::-1] # Orders them by their eigenvalues\n",
    "eVals = eVals[order]\n",
    "eVecs = eVecs[:,order]\n",
    "\n",
    "r = eVecs[:, 0]\n",
    "100 * np.real(r / np.sum(r))"
   ]
  },
  {
   "cell_type": "code",
   "execution_count": 46,
   "metadata": {},
   "outputs": [
    {
     "name": "stdout",
     "output_type": "stream",
     "text": [
      "Populating the interactive namespace from numpy and matplotlib\n",
      "38 iterations to convergence.\n"
     ]
    },
    {
     "data": {
      "application/javascript": [
       "/* Put everything inside the global mpl namespace */\n",
       "window.mpl = {};\n",
       "\n",
       "\n",
       "mpl.get_websocket_type = function() {\n",
       "    if (typeof(WebSocket) !== 'undefined') {\n",
       "        return WebSocket;\n",
       "    } else if (typeof(MozWebSocket) !== 'undefined') {\n",
       "        return MozWebSocket;\n",
       "    } else {\n",
       "        alert('Your browser does not have WebSocket support.' +\n",
       "              'Please try Chrome, Safari or Firefox ≥ 6. ' +\n",
       "              'Firefox 4 and 5 are also supported but you ' +\n",
       "              'have to enable WebSockets in about:config.');\n",
       "    };\n",
       "}\n",
       "\n",
       "mpl.figure = function(figure_id, websocket, ondownload, parent_element) {\n",
       "    this.id = figure_id;\n",
       "\n",
       "    this.ws = websocket;\n",
       "\n",
       "    this.supports_binary = (this.ws.binaryType != undefined);\n",
       "\n",
       "    if (!this.supports_binary) {\n",
       "        var warnings = document.getElementById(\"mpl-warnings\");\n",
       "        if (warnings) {\n",
       "            warnings.style.display = 'block';\n",
       "            warnings.textContent = (\n",
       "                \"This browser does not support binary websocket messages. \" +\n",
       "                    \"Performance may be slow.\");\n",
       "        }\n",
       "    }\n",
       "\n",
       "    this.imageObj = new Image();\n",
       "\n",
       "    this.context = undefined;\n",
       "    this.message = undefined;\n",
       "    this.canvas = undefined;\n",
       "    this.rubberband_canvas = undefined;\n",
       "    this.rubberband_context = undefined;\n",
       "    this.format_dropdown = undefined;\n",
       "\n",
       "    this.image_mode = 'full';\n",
       "\n",
       "    this.root = $('<div/>');\n",
       "    this._root_extra_style(this.root)\n",
       "    this.root.attr('style', 'display: inline-block');\n",
       "\n",
       "    $(parent_element).append(this.root);\n",
       "\n",
       "    this._init_header(this);\n",
       "    this._init_canvas(this);\n",
       "    this._init_toolbar(this);\n",
       "\n",
       "    var fig = this;\n",
       "\n",
       "    this.waiting = false;\n",
       "\n",
       "    this.ws.onopen =  function () {\n",
       "            fig.send_message(\"supports_binary\", {value: fig.supports_binary});\n",
       "            fig.send_message(\"send_image_mode\", {});\n",
       "            if (mpl.ratio != 1) {\n",
       "                fig.send_message(\"set_dpi_ratio\", {'dpi_ratio': mpl.ratio});\n",
       "            }\n",
       "            fig.send_message(\"refresh\", {});\n",
       "        }\n",
       "\n",
       "    this.imageObj.onload = function() {\n",
       "            if (fig.image_mode == 'full') {\n",
       "                // Full images could contain transparency (where diff images\n",
       "                // almost always do), so we need to clear the canvas so that\n",
       "                // there is no ghosting.\n",
       "                fig.context.clearRect(0, 0, fig.canvas.width, fig.canvas.height);\n",
       "            }\n",
       "            fig.context.drawImage(fig.imageObj, 0, 0);\n",
       "        };\n",
       "\n",
       "    this.imageObj.onunload = function() {\n",
       "        this.ws.close();\n",
       "    }\n",
       "\n",
       "    this.ws.onmessage = this._make_on_message_function(this);\n",
       "\n",
       "    this.ondownload = ondownload;\n",
       "}\n",
       "\n",
       "mpl.figure.prototype._init_header = function() {\n",
       "    var titlebar = $(\n",
       "        '<div class=\"ui-dialog-titlebar ui-widget-header ui-corner-all ' +\n",
       "        'ui-helper-clearfix\"/>');\n",
       "    var titletext = $(\n",
       "        '<div class=\"ui-dialog-title\" style=\"width: 100%; ' +\n",
       "        'text-align: center; padding: 3px;\"/>');\n",
       "    titlebar.append(titletext)\n",
       "    this.root.append(titlebar);\n",
       "    this.header = titletext[0];\n",
       "}\n",
       "\n",
       "\n",
       "\n",
       "mpl.figure.prototype._canvas_extra_style = function(canvas_div) {\n",
       "\n",
       "}\n",
       "\n",
       "\n",
       "mpl.figure.prototype._root_extra_style = function(canvas_div) {\n",
       "\n",
       "}\n",
       "\n",
       "mpl.figure.prototype._init_canvas = function() {\n",
       "    var fig = this;\n",
       "\n",
       "    var canvas_div = $('<div/>');\n",
       "\n",
       "    canvas_div.attr('style', 'position: relative; clear: both; outline: 0');\n",
       "\n",
       "    function canvas_keyboard_event(event) {\n",
       "        return fig.key_event(event, event['data']);\n",
       "    }\n",
       "\n",
       "    canvas_div.keydown('key_press', canvas_keyboard_event);\n",
       "    canvas_div.keyup('key_release', canvas_keyboard_event);\n",
       "    this.canvas_div = canvas_div\n",
       "    this._canvas_extra_style(canvas_div)\n",
       "    this.root.append(canvas_div);\n",
       "\n",
       "    var canvas = $('<canvas/>');\n",
       "    canvas.addClass('mpl-canvas');\n",
       "    canvas.attr('style', \"left: 0; top: 0; z-index: 0; outline: 0\")\n",
       "\n",
       "    this.canvas = canvas[0];\n",
       "    this.context = canvas[0].getContext(\"2d\");\n",
       "\n",
       "    var backingStore = this.context.backingStorePixelRatio ||\n",
       "\tthis.context.webkitBackingStorePixelRatio ||\n",
       "\tthis.context.mozBackingStorePixelRatio ||\n",
       "\tthis.context.msBackingStorePixelRatio ||\n",
       "\tthis.context.oBackingStorePixelRatio ||\n",
       "\tthis.context.backingStorePixelRatio || 1;\n",
       "\n",
       "    mpl.ratio = (window.devicePixelRatio || 1) / backingStore;\n",
       "\n",
       "    var rubberband = $('<canvas/>');\n",
       "    rubberband.attr('style', \"position: absolute; left: 0; top: 0; z-index: 1;\")\n",
       "\n",
       "    var pass_mouse_events = true;\n",
       "\n",
       "    canvas_div.resizable({\n",
       "        start: function(event, ui) {\n",
       "            pass_mouse_events = false;\n",
       "        },\n",
       "        resize: function(event, ui) {\n",
       "            fig.request_resize(ui.size.width, ui.size.height);\n",
       "        },\n",
       "        stop: function(event, ui) {\n",
       "            pass_mouse_events = true;\n",
       "            fig.request_resize(ui.size.width, ui.size.height);\n",
       "        },\n",
       "    });\n",
       "\n",
       "    function mouse_event_fn(event) {\n",
       "        if (pass_mouse_events)\n",
       "            return fig.mouse_event(event, event['data']);\n",
       "    }\n",
       "\n",
       "    rubberband.mousedown('button_press', mouse_event_fn);\n",
       "    rubberband.mouseup('button_release', mouse_event_fn);\n",
       "    // Throttle sequential mouse events to 1 every 20ms.\n",
       "    rubberband.mousemove('motion_notify', mouse_event_fn);\n",
       "\n",
       "    rubberband.mouseenter('figure_enter', mouse_event_fn);\n",
       "    rubberband.mouseleave('figure_leave', mouse_event_fn);\n",
       "\n",
       "    canvas_div.on(\"wheel\", function (event) {\n",
       "        event = event.originalEvent;\n",
       "        event['data'] = 'scroll'\n",
       "        if (event.deltaY < 0) {\n",
       "            event.step = 1;\n",
       "        } else {\n",
       "            event.step = -1;\n",
       "        }\n",
       "        mouse_event_fn(event);\n",
       "    });\n",
       "\n",
       "    canvas_div.append(canvas);\n",
       "    canvas_div.append(rubberband);\n",
       "\n",
       "    this.rubberband = rubberband;\n",
       "    this.rubberband_canvas = rubberband[0];\n",
       "    this.rubberband_context = rubberband[0].getContext(\"2d\");\n",
       "    this.rubberband_context.strokeStyle = \"#000000\";\n",
       "\n",
       "    this._resize_canvas = function(width, height) {\n",
       "        // Keep the size of the canvas, canvas container, and rubber band\n",
       "        // canvas in synch.\n",
       "        canvas_div.css('width', width)\n",
       "        canvas_div.css('height', height)\n",
       "\n",
       "        canvas.attr('width', width * mpl.ratio);\n",
       "        canvas.attr('height', height * mpl.ratio);\n",
       "        canvas.attr('style', 'width: ' + width + 'px; height: ' + height + 'px;');\n",
       "\n",
       "        rubberband.attr('width', width);\n",
       "        rubberband.attr('height', height);\n",
       "    }\n",
       "\n",
       "    // Set the figure to an initial 600x600px, this will subsequently be updated\n",
       "    // upon first draw.\n",
       "    this._resize_canvas(600, 600);\n",
       "\n",
       "    // Disable right mouse context menu.\n",
       "    $(this.rubberband_canvas).bind(\"contextmenu\",function(e){\n",
       "        return false;\n",
       "    });\n",
       "\n",
       "    function set_focus () {\n",
       "        canvas.focus();\n",
       "        canvas_div.focus();\n",
       "    }\n",
       "\n",
       "    window.setTimeout(set_focus, 100);\n",
       "}\n",
       "\n",
       "mpl.figure.prototype._init_toolbar = function() {\n",
       "    var fig = this;\n",
       "\n",
       "    var nav_element = $('<div/>')\n",
       "    nav_element.attr('style', 'width: 100%');\n",
       "    this.root.append(nav_element);\n",
       "\n",
       "    // Define a callback function for later on.\n",
       "    function toolbar_event(event) {\n",
       "        return fig.toolbar_button_onclick(event['data']);\n",
       "    }\n",
       "    function toolbar_mouse_event(event) {\n",
       "        return fig.toolbar_button_onmouseover(event['data']);\n",
       "    }\n",
       "\n",
       "    for(var toolbar_ind in mpl.toolbar_items) {\n",
       "        var name = mpl.toolbar_items[toolbar_ind][0];\n",
       "        var tooltip = mpl.toolbar_items[toolbar_ind][1];\n",
       "        var image = mpl.toolbar_items[toolbar_ind][2];\n",
       "        var method_name = mpl.toolbar_items[toolbar_ind][3];\n",
       "\n",
       "        if (!name) {\n",
       "            // put a spacer in here.\n",
       "            continue;\n",
       "        }\n",
       "        var button = $('<button/>');\n",
       "        button.addClass('ui-button ui-widget ui-state-default ui-corner-all ' +\n",
       "                        'ui-button-icon-only');\n",
       "        button.attr('role', 'button');\n",
       "        button.attr('aria-disabled', 'false');\n",
       "        button.click(method_name, toolbar_event);\n",
       "        button.mouseover(tooltip, toolbar_mouse_event);\n",
       "\n",
       "        var icon_img = $('<span/>');\n",
       "        icon_img.addClass('ui-button-icon-primary ui-icon');\n",
       "        icon_img.addClass(image);\n",
       "        icon_img.addClass('ui-corner-all');\n",
       "\n",
       "        var tooltip_span = $('<span/>');\n",
       "        tooltip_span.addClass('ui-button-text');\n",
       "        tooltip_span.html(tooltip);\n",
       "\n",
       "        button.append(icon_img);\n",
       "        button.append(tooltip_span);\n",
       "\n",
       "        nav_element.append(button);\n",
       "    }\n",
       "\n",
       "    var fmt_picker_span = $('<span/>');\n",
       "\n",
       "    var fmt_picker = $('<select/>');\n",
       "    fmt_picker.addClass('mpl-toolbar-option ui-widget ui-widget-content');\n",
       "    fmt_picker_span.append(fmt_picker);\n",
       "    nav_element.append(fmt_picker_span);\n",
       "    this.format_dropdown = fmt_picker[0];\n",
       "\n",
       "    for (var ind in mpl.extensions) {\n",
       "        var fmt = mpl.extensions[ind];\n",
       "        var option = $(\n",
       "            '<option/>', {selected: fmt === mpl.default_extension}).html(fmt);\n",
       "        fmt_picker.append(option)\n",
       "    }\n",
       "\n",
       "    // Add hover states to the ui-buttons\n",
       "    $( \".ui-button\" ).hover(\n",
       "        function() { $(this).addClass(\"ui-state-hover\");},\n",
       "        function() { $(this).removeClass(\"ui-state-hover\");}\n",
       "    );\n",
       "\n",
       "    var status_bar = $('<span class=\"mpl-message\"/>');\n",
       "    nav_element.append(status_bar);\n",
       "    this.message = status_bar[0];\n",
       "}\n",
       "\n",
       "mpl.figure.prototype.request_resize = function(x_pixels, y_pixels) {\n",
       "    // Request matplotlib to resize the figure. Matplotlib will then trigger a resize in the client,\n",
       "    // which will in turn request a refresh of the image.\n",
       "    this.send_message('resize', {'width': x_pixels, 'height': y_pixels});\n",
       "}\n",
       "\n",
       "mpl.figure.prototype.send_message = function(type, properties) {\n",
       "    properties['type'] = type;\n",
       "    properties['figure_id'] = this.id;\n",
       "    this.ws.send(JSON.stringify(properties));\n",
       "}\n",
       "\n",
       "mpl.figure.prototype.send_draw_message = function() {\n",
       "    if (!this.waiting) {\n",
       "        this.waiting = true;\n",
       "        this.ws.send(JSON.stringify({type: \"draw\", figure_id: this.id}));\n",
       "    }\n",
       "}\n",
       "\n",
       "\n",
       "mpl.figure.prototype.handle_save = function(fig, msg) {\n",
       "    var format_dropdown = fig.format_dropdown;\n",
       "    var format = format_dropdown.options[format_dropdown.selectedIndex].value;\n",
       "    fig.ondownload(fig, format);\n",
       "}\n",
       "\n",
       "\n",
       "mpl.figure.prototype.handle_resize = function(fig, msg) {\n",
       "    var size = msg['size'];\n",
       "    if (size[0] != fig.canvas.width || size[1] != fig.canvas.height) {\n",
       "        fig._resize_canvas(size[0], size[1]);\n",
       "        fig.send_message(\"refresh\", {});\n",
       "    };\n",
       "}\n",
       "\n",
       "mpl.figure.prototype.handle_rubberband = function(fig, msg) {\n",
       "    var x0 = msg['x0'] / mpl.ratio;\n",
       "    var y0 = (fig.canvas.height - msg['y0']) / mpl.ratio;\n",
       "    var x1 = msg['x1'] / mpl.ratio;\n",
       "    var y1 = (fig.canvas.height - msg['y1']) / mpl.ratio;\n",
       "    x0 = Math.floor(x0) + 0.5;\n",
       "    y0 = Math.floor(y0) + 0.5;\n",
       "    x1 = Math.floor(x1) + 0.5;\n",
       "    y1 = Math.floor(y1) + 0.5;\n",
       "    var min_x = Math.min(x0, x1);\n",
       "    var min_y = Math.min(y0, y1);\n",
       "    var width = Math.abs(x1 - x0);\n",
       "    var height = Math.abs(y1 - y0);\n",
       "\n",
       "    fig.rubberband_context.clearRect(\n",
       "        0, 0, fig.canvas.width, fig.canvas.height);\n",
       "\n",
       "    fig.rubberband_context.strokeRect(min_x, min_y, width, height);\n",
       "}\n",
       "\n",
       "mpl.figure.prototype.handle_figure_label = function(fig, msg) {\n",
       "    // Updates the figure title.\n",
       "    fig.header.textContent = msg['label'];\n",
       "}\n",
       "\n",
       "mpl.figure.prototype.handle_cursor = function(fig, msg) {\n",
       "    var cursor = msg['cursor'];\n",
       "    switch(cursor)\n",
       "    {\n",
       "    case 0:\n",
       "        cursor = 'pointer';\n",
       "        break;\n",
       "    case 1:\n",
       "        cursor = 'default';\n",
       "        break;\n",
       "    case 2:\n",
       "        cursor = 'crosshair';\n",
       "        break;\n",
       "    case 3:\n",
       "        cursor = 'move';\n",
       "        break;\n",
       "    }\n",
       "    fig.rubberband_canvas.style.cursor = cursor;\n",
       "}\n",
       "\n",
       "mpl.figure.prototype.handle_message = function(fig, msg) {\n",
       "    fig.message.textContent = msg['message'];\n",
       "}\n",
       "\n",
       "mpl.figure.prototype.handle_draw = function(fig, msg) {\n",
       "    // Request the server to send over a new figure.\n",
       "    fig.send_draw_message();\n",
       "}\n",
       "\n",
       "mpl.figure.prototype.handle_image_mode = function(fig, msg) {\n",
       "    fig.image_mode = msg['mode'];\n",
       "}\n",
       "\n",
       "mpl.figure.prototype.updated_canvas_event = function() {\n",
       "    // Called whenever the canvas gets updated.\n",
       "    this.send_message(\"ack\", {});\n",
       "}\n",
       "\n",
       "// A function to construct a web socket function for onmessage handling.\n",
       "// Called in the figure constructor.\n",
       "mpl.figure.prototype._make_on_message_function = function(fig) {\n",
       "    return function socket_on_message(evt) {\n",
       "        if (evt.data instanceof Blob) {\n",
       "            /* FIXME: We get \"Resource interpreted as Image but\n",
       "             * transferred with MIME type text/plain:\" errors on\n",
       "             * Chrome.  But how to set the MIME type?  It doesn't seem\n",
       "             * to be part of the websocket stream */\n",
       "            evt.data.type = \"image/png\";\n",
       "\n",
       "            /* Free the memory for the previous frames */\n",
       "            if (fig.imageObj.src) {\n",
       "                (window.URL || window.webkitURL).revokeObjectURL(\n",
       "                    fig.imageObj.src);\n",
       "            }\n",
       "\n",
       "            fig.imageObj.src = (window.URL || window.webkitURL).createObjectURL(\n",
       "                evt.data);\n",
       "            fig.updated_canvas_event();\n",
       "            fig.waiting = false;\n",
       "            return;\n",
       "        }\n",
       "        else if (typeof evt.data === 'string' && evt.data.slice(0, 21) == \"data:image/png;base64\") {\n",
       "            fig.imageObj.src = evt.data;\n",
       "            fig.updated_canvas_event();\n",
       "            fig.waiting = false;\n",
       "            return;\n",
       "        }\n",
       "\n",
       "        var msg = JSON.parse(evt.data);\n",
       "        var msg_type = msg['type'];\n",
       "\n",
       "        // Call the  \"handle_{type}\" callback, which takes\n",
       "        // the figure and JSON message as its only arguments.\n",
       "        try {\n",
       "            var callback = fig[\"handle_\" + msg_type];\n",
       "        } catch (e) {\n",
       "            console.log(\"No handler for the '\" + msg_type + \"' message type: \", msg);\n",
       "            return;\n",
       "        }\n",
       "\n",
       "        if (callback) {\n",
       "            try {\n",
       "                // console.log(\"Handling '\" + msg_type + \"' message: \", msg);\n",
       "                callback(fig, msg);\n",
       "            } catch (e) {\n",
       "                console.log(\"Exception inside the 'handler_\" + msg_type + \"' callback:\", e, e.stack, msg);\n",
       "            }\n",
       "        }\n",
       "    };\n",
       "}\n",
       "\n",
       "// from http://stackoverflow.com/questions/1114465/getting-mouse-location-in-canvas\n",
       "mpl.findpos = function(e) {\n",
       "    //this section is from http://www.quirksmode.org/js/events_properties.html\n",
       "    var targ;\n",
       "    if (!e)\n",
       "        e = window.event;\n",
       "    if (e.target)\n",
       "        targ = e.target;\n",
       "    else if (e.srcElement)\n",
       "        targ = e.srcElement;\n",
       "    if (targ.nodeType == 3) // defeat Safari bug\n",
       "        targ = targ.parentNode;\n",
       "\n",
       "    // jQuery normalizes the pageX and pageY\n",
       "    // pageX,Y are the mouse positions relative to the document\n",
       "    // offset() returns the position of the element relative to the document\n",
       "    var x = e.pageX - $(targ).offset().left;\n",
       "    var y = e.pageY - $(targ).offset().top;\n",
       "\n",
       "    return {\"x\": x, \"y\": y};\n",
       "};\n",
       "\n",
       "/*\n",
       " * return a copy of an object with only non-object keys\n",
       " * we need this to avoid circular references\n",
       " * http://stackoverflow.com/a/24161582/3208463\n",
       " */\n",
       "function simpleKeys (original) {\n",
       "  return Object.keys(original).reduce(function (obj, key) {\n",
       "    if (typeof original[key] !== 'object')\n",
       "        obj[key] = original[key]\n",
       "    return obj;\n",
       "  }, {});\n",
       "}\n",
       "\n",
       "mpl.figure.prototype.mouse_event = function(event, name) {\n",
       "    var canvas_pos = mpl.findpos(event)\n",
       "\n",
       "    if (name === 'button_press')\n",
       "    {\n",
       "        this.canvas.focus();\n",
       "        this.canvas_div.focus();\n",
       "    }\n",
       "\n",
       "    var x = canvas_pos.x * mpl.ratio;\n",
       "    var y = canvas_pos.y * mpl.ratio;\n",
       "\n",
       "    this.send_message(name, {x: x, y: y, button: event.button,\n",
       "                             step: event.step,\n",
       "                             guiEvent: simpleKeys(event)});\n",
       "\n",
       "    /* This prevents the web browser from automatically changing to\n",
       "     * the text insertion cursor when the button is pressed.  We want\n",
       "     * to control all of the cursor setting manually through the\n",
       "     * 'cursor' event from matplotlib */\n",
       "    event.preventDefault();\n",
       "    return false;\n",
       "}\n",
       "\n",
       "mpl.figure.prototype._key_event_extra = function(event, name) {\n",
       "    // Handle any extra behaviour associated with a key event\n",
       "}\n",
       "\n",
       "mpl.figure.prototype.key_event = function(event, name) {\n",
       "\n",
       "    // Prevent repeat events\n",
       "    if (name == 'key_press')\n",
       "    {\n",
       "        if (event.which === this._key)\n",
       "            return;\n",
       "        else\n",
       "            this._key = event.which;\n",
       "    }\n",
       "    if (name == 'key_release')\n",
       "        this._key = null;\n",
       "\n",
       "    var value = '';\n",
       "    if (event.ctrlKey && event.which != 17)\n",
       "        value += \"ctrl+\";\n",
       "    if (event.altKey && event.which != 18)\n",
       "        value += \"alt+\";\n",
       "    if (event.shiftKey && event.which != 16)\n",
       "        value += \"shift+\";\n",
       "\n",
       "    value += 'k';\n",
       "    value += event.which.toString();\n",
       "\n",
       "    this._key_event_extra(event, name);\n",
       "\n",
       "    this.send_message(name, {key: value,\n",
       "                             guiEvent: simpleKeys(event)});\n",
       "    return false;\n",
       "}\n",
       "\n",
       "mpl.figure.prototype.toolbar_button_onclick = function(name) {\n",
       "    if (name == 'download') {\n",
       "        this.handle_save(this, null);\n",
       "    } else {\n",
       "        this.send_message(\"toolbar_button\", {name: name});\n",
       "    }\n",
       "};\n",
       "\n",
       "mpl.figure.prototype.toolbar_button_onmouseover = function(tooltip) {\n",
       "    this.message.textContent = tooltip;\n",
       "};\n",
       "mpl.toolbar_items = [[\"Home\", \"Reset original view\", \"fa fa-home icon-home\", \"home\"], [\"Back\", \"Back to  previous view\", \"fa fa-arrow-left icon-arrow-left\", \"back\"], [\"Forward\", \"Forward to next view\", \"fa fa-arrow-right icon-arrow-right\", \"forward\"], [\"\", \"\", \"\", \"\"], [\"Pan\", \"Pan axes with left mouse, zoom with right\", \"fa fa-arrows icon-move\", \"pan\"], [\"Zoom\", \"Zoom to rectangle\", \"fa fa-square-o icon-check-empty\", \"zoom\"], [\"\", \"\", \"\", \"\"], [\"Download\", \"Download plot\", \"fa fa-floppy-o icon-save\", \"download\"]];\n",
       "\n",
       "mpl.extensions = [\"eps\", \"jpeg\", \"pdf\", \"png\", \"ps\", \"raw\", \"svg\", \"tif\"];\n",
       "\n",
       "mpl.default_extension = \"png\";var comm_websocket_adapter = function(comm) {\n",
       "    // Create a \"websocket\"-like object which calls the given IPython comm\n",
       "    // object with the appropriate methods. Currently this is a non binary\n",
       "    // socket, so there is still some room for performance tuning.\n",
       "    var ws = {};\n",
       "\n",
       "    ws.close = function() {\n",
       "        comm.close()\n",
       "    };\n",
       "    ws.send = function(m) {\n",
       "        //console.log('sending', m);\n",
       "        comm.send(m);\n",
       "    };\n",
       "    // Register the callback with on_msg.\n",
       "    comm.on_msg(function(msg) {\n",
       "        //console.log('receiving', msg['content']['data'], msg);\n",
       "        // Pass the mpl event to the overriden (by mpl) onmessage function.\n",
       "        ws.onmessage(msg['content']['data'])\n",
       "    });\n",
       "    return ws;\n",
       "}\n",
       "\n",
       "mpl.mpl_figure_comm = function(comm, msg) {\n",
       "    // This is the function which gets called when the mpl process\n",
       "    // starts-up an IPython Comm through the \"matplotlib\" channel.\n",
       "\n",
       "    var id = msg.content.data.id;\n",
       "    // Get hold of the div created by the display call when the Comm\n",
       "    // socket was opened in Python.\n",
       "    var element = $(\"#\" + id);\n",
       "    var ws_proxy = comm_websocket_adapter(comm)\n",
       "\n",
       "    function ondownload(figure, format) {\n",
       "        window.open(figure.imageObj.src);\n",
       "    }\n",
       "\n",
       "    var fig = new mpl.figure(id, ws_proxy,\n",
       "                           ondownload,\n",
       "                           element.get(0));\n",
       "\n",
       "    // Call onopen now - mpl needs it, as it is assuming we've passed it a real\n",
       "    // web socket which is closed, not our websocket->open comm proxy.\n",
       "    ws_proxy.onopen();\n",
       "\n",
       "    fig.parent_element = element.get(0);\n",
       "    fig.cell_info = mpl.find_output_cell(\"<div id='\" + id + \"'></div>\");\n",
       "    if (!fig.cell_info) {\n",
       "        console.error(\"Failed to find cell for figure\", id, fig);\n",
       "        return;\n",
       "    }\n",
       "\n",
       "    var output_index = fig.cell_info[2]\n",
       "    var cell = fig.cell_info[0];\n",
       "\n",
       "};\n",
       "\n",
       "mpl.figure.prototype.handle_close = function(fig, msg) {\n",
       "    var width = fig.canvas.width/mpl.ratio\n",
       "    fig.root.unbind('remove')\n",
       "\n",
       "    // Update the output cell to use the data from the current canvas.\n",
       "    fig.push_to_output();\n",
       "    var dataURL = fig.canvas.toDataURL();\n",
       "    // Re-enable the keyboard manager in IPython - without this line, in FF,\n",
       "    // the notebook keyboard shortcuts fail.\n",
       "    IPython.keyboard_manager.enable()\n",
       "    $(fig.parent_element).html('<img src=\"' + dataURL + '\" width=\"' + width + '\">');\n",
       "    fig.close_ws(fig, msg);\n",
       "}\n",
       "\n",
       "mpl.figure.prototype.close_ws = function(fig, msg){\n",
       "    fig.send_message('closing', msg);\n",
       "    // fig.ws.close()\n",
       "}\n",
       "\n",
       "mpl.figure.prototype.push_to_output = function(remove_interactive) {\n",
       "    // Turn the data on the canvas into data in the output cell.\n",
       "    var width = this.canvas.width/mpl.ratio\n",
       "    var dataURL = this.canvas.toDataURL();\n",
       "    this.cell_info[1]['text/html'] = '<img src=\"' + dataURL + '\" width=\"' + width + '\">';\n",
       "}\n",
       "\n",
       "mpl.figure.prototype.updated_canvas_event = function() {\n",
       "    // Tell IPython that the notebook contents must change.\n",
       "    IPython.notebook.set_dirty(true);\n",
       "    this.send_message(\"ack\", {});\n",
       "    var fig = this;\n",
       "    // Wait a second, then push the new image to the DOM so\n",
       "    // that it is saved nicely (might be nice to debounce this).\n",
       "    setTimeout(function () { fig.push_to_output() }, 1000);\n",
       "}\n",
       "\n",
       "mpl.figure.prototype._init_toolbar = function() {\n",
       "    var fig = this;\n",
       "\n",
       "    var nav_element = $('<div/>')\n",
       "    nav_element.attr('style', 'width: 100%');\n",
       "    this.root.append(nav_element);\n",
       "\n",
       "    // Define a callback function for later on.\n",
       "    function toolbar_event(event) {\n",
       "        return fig.toolbar_button_onclick(event['data']);\n",
       "    }\n",
       "    function toolbar_mouse_event(event) {\n",
       "        return fig.toolbar_button_onmouseover(event['data']);\n",
       "    }\n",
       "\n",
       "    for(var toolbar_ind in mpl.toolbar_items){\n",
       "        var name = mpl.toolbar_items[toolbar_ind][0];\n",
       "        var tooltip = mpl.toolbar_items[toolbar_ind][1];\n",
       "        var image = mpl.toolbar_items[toolbar_ind][2];\n",
       "        var method_name = mpl.toolbar_items[toolbar_ind][3];\n",
       "\n",
       "        if (!name) { continue; };\n",
       "\n",
       "        var button = $('<button class=\"btn btn-default\" href=\"#\" title=\"' + name + '\"><i class=\"fa ' + image + ' fa-lg\"></i></button>');\n",
       "        button.click(method_name, toolbar_event);\n",
       "        button.mouseover(tooltip, toolbar_mouse_event);\n",
       "        nav_element.append(button);\n",
       "    }\n",
       "\n",
       "    // Add the status bar.\n",
       "    var status_bar = $('<span class=\"mpl-message\" style=\"text-align:right; float: right;\"/>');\n",
       "    nav_element.append(status_bar);\n",
       "    this.message = status_bar[0];\n",
       "\n",
       "    // Add the close button to the window.\n",
       "    var buttongrp = $('<div class=\"btn-group inline pull-right\"></div>');\n",
       "    var button = $('<button class=\"btn btn-mini btn-primary\" href=\"#\" title=\"Stop Interaction\"><i class=\"fa fa-power-off icon-remove icon-large\"></i></button>');\n",
       "    button.click(function (evt) { fig.handle_close(fig, {}); } );\n",
       "    button.mouseover('Stop Interaction', toolbar_mouse_event);\n",
       "    buttongrp.append(button);\n",
       "    var titlebar = this.root.find($('.ui-dialog-titlebar'));\n",
       "    titlebar.prepend(buttongrp);\n",
       "}\n",
       "\n",
       "mpl.figure.prototype._root_extra_style = function(el){\n",
       "    var fig = this\n",
       "    el.on(\"remove\", function(){\n",
       "\tfig.close_ws(fig, {});\n",
       "    });\n",
       "}\n",
       "\n",
       "mpl.figure.prototype._canvas_extra_style = function(el){\n",
       "    // this is important to make the div 'focusable\n",
       "    el.attr('tabindex', 0)\n",
       "    // reach out to IPython and tell the keyboard manager to turn it's self\n",
       "    // off when our div gets focus\n",
       "\n",
       "    // location in version 3\n",
       "    if (IPython.notebook.keyboard_manager) {\n",
       "        IPython.notebook.keyboard_manager.register_events(el);\n",
       "    }\n",
       "    else {\n",
       "        // location in version 2\n",
       "        IPython.keyboard_manager.register_events(el);\n",
       "    }\n",
       "\n",
       "}\n",
       "\n",
       "mpl.figure.prototype._key_event_extra = function(event, name) {\n",
       "    var manager = IPython.notebook.keyboard_manager;\n",
       "    if (!manager)\n",
       "        manager = IPython.keyboard_manager;\n",
       "\n",
       "    // Check for shift+enter\n",
       "    if (event.shiftKey && event.which == 13) {\n",
       "        this.canvas_div.blur();\n",
       "        // select the cell after this one\n",
       "        var index = IPython.notebook.find_cell_index(this.cell_info[0]);\n",
       "        IPython.notebook.select(index + 1);\n",
       "    }\n",
       "}\n",
       "\n",
       "mpl.figure.prototype.handle_save = function(fig, msg) {\n",
       "    fig.ondownload(fig, null);\n",
       "}\n",
       "\n",
       "\n",
       "mpl.find_output_cell = function(html_output) {\n",
       "    // Return the cell and output element which can be found *uniquely* in the notebook.\n",
       "    // Note - this is a bit hacky, but it is done because the \"notebook_saving.Notebook\"\n",
       "    // IPython event is triggered only after the cells have been serialised, which for\n",
       "    // our purposes (turning an active figure into a static one), is too late.\n",
       "    var cells = IPython.notebook.get_cells();\n",
       "    var ncells = cells.length;\n",
       "    for (var i=0; i<ncells; i++) {\n",
       "        var cell = cells[i];\n",
       "        if (cell.cell_type === 'code'){\n",
       "            for (var j=0; j<cell.output_area.outputs.length; j++) {\n",
       "                var data = cell.output_area.outputs[j];\n",
       "                if (data.data) {\n",
       "                    // IPython >= 3 moved mimebundle to data attribute of output\n",
       "                    data = data.data;\n",
       "                }\n",
       "                if (data['text/html'] == html_output) {\n",
       "                    return [cell, data, j];\n",
       "                }\n",
       "            }\n",
       "        }\n",
       "    }\n",
       "}\n",
       "\n",
       "// Register the function which deals with the matplotlib target/channel.\n",
       "// The kernel may be null if the page has been refreshed.\n",
       "if (IPython.notebook.kernel != null) {\n",
       "    IPython.notebook.kernel.comm_manager.register_target('matplotlib', mpl.mpl_figure_comm);\n",
       "}\n"
      ],
      "text/plain": [
       "<IPython.core.display.Javascript object>"
      ]
     },
     "metadata": {},
     "output_type": "display_data"
    },
    {
     "data": {
      "text/html": [
       "<img src=\"data:image/png;base64,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\" width=\"640\">"
      ],
      "text/plain": [
       "<IPython.core.display.HTML object>"
      ]
     },
     "metadata": {},
     "output_type": "display_data"
    }
   ],
   "source": [
    "# You may wish to view the PageRank graphically.\n",
    "# This code will draw a bar chart, for each (numbered) website on the generated internet,\n",
    "# The height of each bar will be the score in the PageRank.\n",
    "# Run this code to see the PageRank for each internet you generate.\n",
    "# Hopefully you should see what you might expect\n",
    "# - there are a few clusters of important websites, but most on the internet are rubbish!\n",
    "%pylab notebook\n",
    "r = pageRank(generate_internet(100), 0.9)\n",
    "plt.bar(arange(r.shape[0]), r);"
   ]
  },
  {
   "cell_type": "code",
   "execution_count": null,
   "metadata": {
    "collapsed": true
   },
   "outputs": [],
   "source": []
  }
 ],
 "metadata": {
  "coursera": {
   "course_slug": "linear-algebra-machine-learning",
   "graded_item_id": "Sfbnp",
   "launcher_item_id": "aPxf3"
  },
  "kernelspec": {
   "display_name": "Python 3",
   "language": "python",
   "name": "python3"
  },
  "language_info": {
   "codemirror_mode": {
    "name": "ipython",
    "version": 3
   },
   "file_extension": ".py",
   "mimetype": "text/x-python",
   "name": "python",
   "nbconvert_exporter": "python",
   "pygments_lexer": "ipython3",
   "version": "3.6.2"
  }
 },
 "nbformat": 4,
 "nbformat_minor": 1
}
