{
 "cells": [
  {
   "cell_type": "code",
   "execution_count": 7,
   "metadata": {},
   "outputs": [],
   "source": [
    "# imports\n",
    "import mysql.connector as sqltor\n",
    "import os\n"
   ]
  },
  {
   "cell_type": "code",
   "execution_count": 8,
   "metadata": {},
   "outputs": [
    {
     "name": "stdout",
     "output_type": "stream",
     "text": [
      "**************************\n",
      "* BANK MANAGEMENT SYSTEM *\n",
      "**************************\n"
     ]
    }
   ],
   "source": [
    "# print a banner\n",
    "print('**************************')\n",
    "print('* Bank Management System *'.upper())\n",
    "print('**************************')\n"
   ]
  },
  {
   "cell_type": "code",
   "execution_count": 9,
   "metadata": {},
   "outputs": [],
   "source": [
    "CORRECT_USER_NAME = 'maharnab'\n",
    "CORRECT_PASSWORD = 'maharnab'\n"
   ]
  },
  {
   "cell_type": "code",
   "execution_count": 10,
   "metadata": {},
   "outputs": [
    {
     "name": "stdout",
     "output_type": "stream",
     "text": [
      "ENTER CREDENTIALS TO LOG IN TO THE SYSTEM\n",
      "(Maximum 3 login attempts are allowed)\n",
      "\n",
      "> Successfully logged in.\n"
     ]
    }
   ],
   "source": [
    "# Login to the system\n",
    "print('Enter credentials to log in to the system'.upper())\n",
    "print('(Maximum 3 login attempts are allowed)\\n')\n",
    "\n",
    "userName = ''\n",
    "password = ''\n",
    "\n",
    "# Should fail after 3 login attempts\n",
    "for i in range(3):\n",
    "    userName = input('Enter the user name: ')\n",
    "    password = input(f'Enter the password for {userName}: ')\n",
    "    # validate entered username and password\n",
    "    if userName != CORRECT_USER_NAME or password != CORRECT_PASSWORD:\n",
    "        print('> ERROR: Wrong user name or password!')\n",
    "        print('> Remaining', 3-i-1, 'attempts!')\n",
    "    else:\n",
    "        print('> Successfully logged in.')\n",
    "        break\n",
    "else:\n",
    "    print('> [ERROR] Failed to login! EXIT!')\n",
    "    ######################## UNCOMMENT ########################\n",
    "    # quit()\n"
   ]
  },
  {
   "cell_type": "code",
   "execution_count": 11,
   "metadata": {},
   "outputs": [
    {
     "name": "stdout",
     "output_type": "stream",
     "text": [
      "> Initiailizing bank management system...\n",
      "> Logging into the database...\n",
      "> Successfully logged into the database...\n"
     ]
    }
   ],
   "source": [
    "# connect to mysql\n",
    "print('> Initiailizing bank management system...')\n",
    "print('> Logging into the database...')\n",
    "dbCon = sqltor.connect(host='localhost', user=userName, passwd=password)\n",
    "if dbCon.is_connected() == True:\n",
    "    print('> Successfully logged into the database...')\n",
    "else:\n",
    "    print('> [ERROR] Failed logged into the database. EXIT')\n"
   ]
  },
  {
   "cell_type": "code",
   "execution_count": 12,
   "metadata": {},
   "outputs": [],
   "source": [
    "dbCursor = dbCon.cursor()\n"
   ]
  },
  {
   "cell_type": "code",
   "execution_count": 13,
   "metadata": {},
   "outputs": [],
   "source": [
    "#######################################################################\n",
    "#                         DATABASE CREATION\n",
    "#######################################################################\n",
    "\n",
    "# create database if not already exists\n",
    "databaseName = 'bank_db'\n",
    "dbCursor.execute('CREATE DATABASE IF NOT EXISTS ' + databaseName)\n",
    "dbCursor.execute('USE ' + databaseName)\n"
   ]
  },
  {
   "cell_type": "code",
   "execution_count": 14,
   "metadata": {},
   "outputs": [
    {
     "name": "stdout",
     "output_type": "stream",
     "text": [
      "> Checking accounts table...\n",
      "> Found details of 0 accounts...\n"
     ]
    }
   ],
   "source": [
    "#######################################################################\n",
    "#                         TABLE CREATION\n",
    "#######################################################################\n",
    "# check accounts table\n",
    "print('> Checking accounts table...')\n",
    "accountTableName = 'bank_accs'\n",
    "createTableQuery = f'''CREATE TABLE IF NOT EXISTS {accountTableName} (\n",
    "        accno       CHAR(10)    NOT NULL PRIMARY KEY,\n",
    "        acctype     CHAR(4)     NOT NULL,\n",
    "        accname     VARCHAR(20),\n",
    "        maincustid  INT NOT NULL,\n",
    "        jtcustid    INT,\n",
    "        createdate  DATE,\n",
    "        updatedate  DATE,\n",
    "        balance     DECIMAL\n",
    "    )\n",
    "'''\n",
    "dbCursor.execute(createTableQuery)\n",
    "dbCursor.execute('SELECT * FROM ' + accountTableName)\n",
    "################## TBC????\n",
    "# data = dbCursor.fetchall()\n",
    "print(f'> Found details of {dbCursor.rowcount} accounts...')\n"
   ]
  },
  {
   "cell_type": "code",
   "execution_count": 16,
   "metadata": {},
   "outputs": [
    {
     "name": "stdout",
     "output_type": "stream",
     "text": [
      "> Checking customer table...\n",
      "> Found details of 0 customers...\n"
     ]
    }
   ],
   "source": [
    "# check customer table\n",
    "customerTableName = 'bank_custs'\n",
    "print('> Checking customer table...')\n",
    "customerTableName = 'bank_custs'\n",
    "createTableQuery = f'''CREATE TABLE IF NOT EXISTS {customerTableName} (\n",
    "        custid      INT UNSIGNED NOT NULL AUTO_INCREMENT PRIMARY KEY,\n",
    "        custname    VARCHAR(30),\n",
    "        mobile      CHAR(10),\n",
    "        address     VARCHAR(50)\n",
    "    )\n",
    "'''\n",
    "dbCursor.execute(createTableQuery)\n",
    "dbCursor.execute('SELECT * FROM ' + customerTableName)\n",
    "################## TBC????\n",
    "# data = dbCursor.fetchall()\n",
    "print(f'> Found details of {dbCursor.rowcount} customers...')"
   ]
  },
  {
   "cell_type": "code",
   "execution_count": 24,
   "metadata": {},
   "outputs": [],
   "source": [
    "#######################################################################\n",
    "#                           DISPLAY MENU\n",
    "#######################################################################\n",
    "\n",
    "def displayMenu():\n",
    "    print('+--------------------------------------------+')\n",
    "    print('| BANK OPERATION MENU                        |')\n",
    "    print('|                                            |')\n",
    "    print('|   Available operations                     |')\n",
    "    print('|                                            |')\n",
    "    print('|   1. Open bank account                     |')\n",
    "    print('|   2. Get account details                   |')\n",
    "    print('|   3. Delete bank account                   |')\n",
    "    print('|   4. Transact                              |')\n",
    "    print('|   5. Get customer details                  |')\n",
    "    print('|   6. Update customer details               |')\n",
    "    print('|   7. Delete customer                       |')\n",
    "    print('|   8. Clear screen and show menu            |')\n",
    "    print('|   9. Quit                                  |')\n",
    "    print('+--------------------------------------------+\\n')    \n"
   ]
  },
  {
   "cell_type": "code",
   "execution_count": 25,
   "metadata": {},
   "outputs": [
    {
     "name": "stdout",
     "output_type": "stream",
     "text": [
      "+--------------------------------------------+\n",
      "| BANK OPERATION MENU                        |\n",
      "|                                            |\n",
      "|   Available operations                     |\n",
      "|                                            |\n",
      "|   1. Open bank account                     |\n",
      "|   2. Get account details                   |\n",
      "|   3. Delete bank account                   |\n",
      "|   4. Transact                              |\n",
      "|   5. Get customer details                  |\n",
      "|   6. Update customer details               |\n",
      "|   7. Delete customer                       |\n",
      "|   8. Clear screen and show menu            |\n",
      "|   9. Quit                                  |\n",
      "+--------------------------------------------+\n",
      "\n"
     ]
    }
   ],
   "source": [
    "displayMenu()\n"
   ]
  },
  {
   "cell_type": "markdown",
   "metadata": {},
   "source": [
    "```python\n",
    "        accno       CHAR(10)    NOT NULL PRIMARY KEY,\n",
    "        acctype     CHAR(4)     NOT NULL,\n",
    "        accname     VARCHAR(20),\n",
    "        maincustid  INT NOT NULL,\n",
    "        jtcustid    INT,\n",
    "        createdate  DATE,\n",
    "        updatedate  DATE,\n",
    "        balance     DECIMAL\n",
    "```"
   ]
  },
  {
   "cell_type": "code",
   "execution_count": 27,
   "metadata": {},
   "outputs": [],
   "source": [
    "def getCustDetail():\n",
    "    print('enter customer details'.upper())\n",
    "    name = input('  Customer name? ')\n",
    "    mobile = input('  Mobile number? ')\n",
    "    address = input('  Address? ')\n",
    "    \n",
    "    return (name, mobile, address)"
   ]
  },
  {
   "cell_type": "code",
   "execution_count": 39,
   "metadata": {},
   "outputs": [],
   "source": [
    "def createCustId(accType='SBAC'):\n",
    "    # get number of specific type of accounts from db\n",
    "    dbCon = sqltor.connect(host='localhost', user='maharnab', \n",
    "                           passwd='maharnab', database='bank_db')\n",
    "    dbCursor = dbCon.cursor()\n",
    "    dbCursor.execute(\n",
    "        f\"SELECT * FROM bank_accs WHERE acctype = '{accType}'\")\n",
    "    count = dbCursor.rowcount\n",
    "    if count <= 0:\n",
    "        count = 1\n",
    "    \n",
    "    return (accType[0] + str(count).zfill(9))\n",
    "    "
   ]
  },
  {
   "cell_type": "code",
   "execution_count": 53,
   "metadata": {},
   "outputs": [],
   "source": [
    "def addCustToDb(custId, name, mobile, address):\n",
    "    dbCon = sqltor.connect(host='localhost', user='maharnab', \n",
    "                           passwd='maharnab', database='bank_db')\n",
    "    dbCursor = dbCon.cursor()\n",
    "    query = f'''\n",
    "        INSERT INTO bank_custs(custname, mobile, address) VALUES(\n",
    "            \"{name}\", \"{mobile}\", \"{address}\")\n",
    "    '''\n",
    "    print(query)\n",
    "    dbCursor.execute(query)"
   ]
  },
  {
   "cell_type": "code",
   "execution_count": 55,
   "metadata": {},
   "outputs": [
    {
     "name": "stdout",
     "output_type": "stream",
     "text": [
      "\n",
      "        INSERT INTO bank_custs(custname, mobile, address) VALUES(\n",
      "            \"test_name\", \"9880561182\", \"Bangalore, 560024\")\n",
      "    \n"
     ]
    }
   ],
   "source": [
    "addCustToDb(\"S000000001\", \"test_name\", \"9880561182\", \"Bangalore, 560024\")\n"
   ]
  },
  {
   "cell_type": "code",
   "execution_count": null,
   "metadata": {},
   "outputs": [],
   "source": [
    "def openBankAcc():\n",
    "    print('Creating a new bank account'.upper())\n",
    "    \n",
    "    # Choose account type\n",
    "    accType = \"SBAC\"\n",
    "    prefix = 'S'\n",
    "    print('\\n  step 1 - account type selection'.capitalize())\n",
    "    print('  1. Savings\\n  2. Current\\n  3. Fixed deposit\\n)')\n",
    "    typeInp = input('Choose account type (1/2/3): ')\n",
    "    if typeInp == 1:\n",
    "        accType = \"SBAC\"\n",
    "        prefix = 'S'\n",
    "    elif typeInp == 2:\n",
    "        accType = \"CUAC\"\n",
    "        prefix = 'C'\n",
    "    elif typeInp == 3:\n",
    "        accType = \"FDAC\"\n",
    "        prefix = 'F'\n",
    "    else:\n",
    "        print('> [ERROR] Failed! Wrong account type ({typeInp})!')\n",
    "        return False\n",
    "    \n",
    "    # Main customer details\n",
    "    print('\\n  step 2 - main customer selection'.capitalize())\n",
    "    existingCust = input('  Existing customer (Yes/No)? ')\n",
    "    if existingCust[0].lower() == 'y':\n",
    "        mainCustId = input('  Customer id? ')\n",
    "    else:\n",
    "        (name, mobile, address) = getCustDetail()\n",
    "        custId = createCustId(accType)\n",
    "    \n",
    "    return True"
   ]
  },
  {
   "cell_type": "code",
   "execution_count": null,
   "metadata": {},
   "outputs": [],
   "source": [
    "choice = 0\n",
    "while choice != 9:\n",
    "    displayMenu()\n",
    "    choice = int(input('>>> Enter your choice [1-9]:'))\n",
    "    if choice == 1:\n",
    "        openBankAcc()"
   ]
  },
  {
   "cell_type": "code",
   "execution_count": 19,
   "metadata": {},
   "outputs": [
    {
     "data": {
      "text/plain": [
       "0"
      ]
     },
     "execution_count": 19,
     "metadata": {},
     "output_type": "execute_result"
    }
   ],
   "source": [
    "os.system('cls' if os.name == 'nt' else 'clear')\n"
   ]
  },
  {
   "cell_type": "code",
   "execution_count": 8,
   "metadata": {},
   "outputs": [],
   "source": [
    "def login():\n",
    "    print('Log in to the system\\n')\n",
    "    # Should fail after 3 login attempts\n",
    "    for i in range(3):\n",
    "        userName = input('Enter the user name: ')\n",
    "        password = input('Enter the password: ')\n",
    "        # validate entered username and password\n",
    "        if userName != 'maharnab' or password != 'maharnab':\n",
    "            print('ERROR: Wrong user name or password!')\n",
    "            print('Remaining', 3-i-1, 'attempts!')\n",
    "        else:\n",
    "            return True\n",
    "    else:\n",
    "        print('[ERROR] Failed to login!')\n",
    "        return False\n",
    "  "
   ]
  },
  {
   "cell_type": "code",
   "execution_count": 21,
   "metadata": {},
   "outputs": [
    {
     "name": "stdout",
     "output_type": "stream",
     "text": [
      "CREATE TABLE IF NOT EXISTS bank_custs (\n",
      "        custid      INT UNSIGNED NOT NULL AUTO_INCREMENT,\n",
      "        custname    VARCHAR(30),\n",
      "        mobile      CHAR(10),\n",
      "        address     VARCHAR(50),\n",
      "        accno       CHAR(10),\n",
      "        PRIMARY KEY (custid, accno),\n",
      "        FOREIGN KEY (accno) REFERENCES bank_accs(accno)\n",
      "    )\n",
      "\n"
     ]
    }
   ],
   "source": [
    "customerTableName = 'bank_custs'\n",
    "createTableQuery = f'''CREATE TABLE IF NOT EXISTS {customerTableName} (\n",
    "        custid      INT UNSIGNED NOT NULL AUTO_INCREMENT,\n",
    "        custname    VARCHAR(30),\n",
    "        mobile      CHAR(10),\n",
    "        address     VARCHAR(50),\n",
    "        accno       CHAR(10),\n",
    "        PRIMARY KEY (custid, accno),\n",
    "        FOREIGN KEY (accno) REFERENCES bank_accs(accno)\n",
    "    )\n",
    "'''\n",
    "print(createTableQuery)"
   ]
  },
  {
   "cell_type": "code",
   "execution_count": 20,
   "metadata": {},
   "outputs": [
    {
     "name": "stdout",
     "output_type": "stream",
     "text": [
      "FD00000123\n"
     ]
    }
   ],
   "source": [
    "n = 123\n",
    "string_val = 'FD' + str(n).zfill(8)\n",
    "print(string_val)\n"
   ]
  },
  {
   "cell_type": "code",
   "execution_count": 9,
   "metadata": {},
   "outputs": [
    {
     "name": "stdout",
     "output_type": "stream",
     "text": [
      "Log in to the system\n",
      "\n",
      "ERROR: Wrong user name or password!\n",
      "Remaining 2 attempts!\n",
      "ERROR: Wrong user name or password!\n",
      "Remaining 1 attempts!\n",
      "ERROR: Wrong user name or password!\n",
      "Remaining 0 attempts!\n",
      "[ERROR] Failed to login!\n"
     ]
    },
    {
     "data": {
      "text/plain": [
       "False"
      ]
     },
     "execution_count": 9,
     "metadata": {},
     "output_type": "execute_result"
    }
   ],
   "source": [
    "login()\n"
   ]
  },
  {
   "cell_type": "code",
   "execution_count": 1,
   "metadata": {},
   "outputs": [
    {
     "name": "stdout",
     "output_type": "stream",
     "text": [
      "Success\n"
     ]
    }
   ],
   "source": [
    "import mysql.connector as sqltor\n",
    "\n",
    "myCon = sqltor.connect(host='localhost', user='maharnab', passwd='maharnab')\n",
    "\n",
    "if myCon.is_connected() == True:\n",
    "    print(\"Success\")"
   ]
  }
 ],
 "metadata": {
  "kernelspec": {
   "display_name": "base",
   "language": "python",
   "name": "python3"
  },
  "language_info": {
   "codemirror_mode": {
    "name": "ipython",
    "version": 3
   },
   "file_extension": ".py",
   "mimetype": "text/x-python",
   "name": "python",
   "nbconvert_exporter": "python",
   "pygments_lexer": "ipython3",
   "version": "3.11.5"
  }
 },
 "nbformat": 4,
 "nbformat_minor": 2
}
