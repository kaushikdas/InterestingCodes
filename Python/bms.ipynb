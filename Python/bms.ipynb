{
 "cells": [
  {
   "cell_type": "markdown",
   "metadata": {},
   "source": [
    "# `database.py`\n"
   ]
  },
  {
   "cell_type": "code",
   "execution_count": 1,
   "metadata": {},
   "outputs": [],
   "source": [
    "# imports\n",
    "import mysql.connector as sqltor\n"
   ]
  },
  {
   "cell_type": "code",
   "execution_count": 2,
   "metadata": {},
   "outputs": [],
   "source": [
    "def connectToDb(username, password):\n",
    "    dbCon = sqltor.connect(host='localhost', user=username,\n",
    "                           passwd=password)\n",
    "    if dbCon.is_connected() == True:\n",
    "        return (dbCon, dbCon.cursor())\n",
    "    else:\n",
    "        print('> [ERROR] DB Connection error!\\n')\n",
    "        return (None, None)\n"
   ]
  },
  {
   "cell_type": "code",
   "execution_count": 64,
   "metadata": {},
   "outputs": [],
   "source": [
    "#######################################################################\n",
    "#                         DATABASE CREATION\n",
    "#######################################################################\n",
    "\n",
    "def createDb(dbCon, dbCursor, dbName='bank_db'):\n",
    "    # create database if not already exists\n",
    "    dbCursor.execute('CREATE DATABASE IF NOT EXISTS ' + dbName)\n",
    "    dbCursor.execute('USE ' + dbName)\n"
   ]
  },
  {
   "cell_type": "code",
   "execution_count": 65,
   "metadata": {},
   "outputs": [],
   "source": [
    "#######################################################################\n",
    "#                         ACCOUNT TABLE CREATION\n",
    "#######################################################################\n",
    "# check accounts table\n",
    "def createAccTable(dbCon, dbCursor, accountTableName='bank_accs'):\n",
    "    createTableQuery = f'''CREATE TABLE IF NOT EXISTS\n",
    "        {accountTableName} (\n",
    "            accno       CHAR(10)    NOT NULL PRIMARY KEY,\n",
    "            acctype     CHAR(4)     NOT NULL,\n",
    "            accname     VARCHAR(20),\n",
    "            maincustid  INT NOT NULL,\n",
    "            jtcustid    INT,\n",
    "            createdate  DATE,\n",
    "            updatedate  DATE,\n",
    "            balance     DECIMAL\n",
    "        )\n",
    "    '''\n",
    "    dbCursor.execute(createTableQuery)\n",
    "    dbCursor.execute('SELECT * FROM ' + accountTableName)\n",
    "    ################## TBC????\n",
    "    dbCursor.fetchall()\n",
    "    \n",
    "    return dbCursor.rowcount\n"
   ]
  },
  {
   "cell_type": "code",
   "execution_count": 66,
   "metadata": {},
   "outputs": [],
   "source": [
    "def createCustTable(dbCon, dbCursor, customerTableName='bank_custs'):\n",
    "    createTableQuery = f'''CREATE TABLE IF NOT EXISTS \n",
    "        {customerTableName} (\n",
    "            custid      INT UNSIGNED NOT NULL AUTO_INCREMENT PRIMARY KEY,\n",
    "            custname    VARCHAR(30),\n",
    "            mobile      CHAR(10),\n",
    "            address     VARCHAR(50)\n",
    "        )\n",
    "    '''\n",
    "    dbCursor.execute(createTableQuery)\n",
    "    dbCursor.execute('SELECT * FROM ' + customerTableName)\n",
    "    ################## TBC????\n",
    "    data = dbCursor.fetchall()\n",
    "    \n",
    "    return dbCursor.rowcount\n"
   ]
  },
  {
   "cell_type": "code",
   "execution_count": 86,
   "metadata": {},
   "outputs": [],
   "source": [
    "def addCustToDb(dbCon, dbCursor, name, mobile, address):\n",
    "    query = f'''\n",
    "        INSERT INTO bank_custs(custname, mobile, address) VALUES(\n",
    "            \"{name}\", \"{mobile}\", \"{address}\")\n",
    "    '''\n",
    "    dbCursor.execute(query)\n",
    "    dbCon.commit()\n",
    "    \n",
    "    # dbCursor.rowcount will have number of rows inserted\n",
    "    insertedRowCount = dbCursor.rowcount\n",
    "    \n",
    "    # dbCursor.lastrowid will have value generated for the \n",
    "    # AUTO_INCREMENT custid column\n",
    "    newCustId = dbCursor.lastrowid\n",
    "    \n",
    "    return (insertedRowCount, newCustId)\n"
   ]
  },
  {
   "cell_type": "code",
   "execution_count": 112,
   "metadata": {},
   "outputs": [],
   "source": [
    "def fetchCustomerDetailsFromDb(dbCursor, custid):\n",
    "    query = f'SELECT * FROM bank_custs WHERE custid = {custid}'\n",
    "    dbCursor.execute(query)\n",
    "    data = dbCursor.fetchone()\n",
    "    if (dbCursor.rowcount > 0):\n",
    "        return data\n",
    "    else:\n",
    "        return None\n"
   ]
  },
  {
   "cell_type": "code",
   "execution_count": 134,
   "metadata": {},
   "outputs": [],
   "source": [
    "def updateCustomerDetailsInDb(dbCon, dbCursor, \n",
    "                              custid, name, mobile, address):\n",
    "    query = f'''\n",
    "        UPDATE bank_custs SET \n",
    "            custname = \"{name}\", \n",
    "            mobile = \"{mobile}\", \n",
    "            address = \"{address}\"\n",
    "        WHERE custid = {custid}\n",
    "    '''\n",
    "    dbCursor.execute(query)\n",
    "    dbCon.commit()\n",
    "    \n",
    "    updatedRowCount = dbCursor.rowcount\n",
    "        \n",
    "    return updatedRowCount\n",
    "    "
   ]
  },
  {
   "cell_type": "code",
   "execution_count": 136,
   "metadata": {},
   "outputs": [],
   "source": [
    "def deleteCustomerFromDb(dbCon, dbCursor, custid):\n",
    "    query = f'DELETE FROM bank_custs WHERE custid = {custid}'\n",
    "    dbCursor.execute(query)\n",
    "    dbCon.commit()\n",
    "    \n",
    "    deletedRowCount = dbCursor.rowcount\n",
    "        \n",
    "    return deletedRowCount\n",
    "    "
   ]
  },
  {
   "cell_type": "code",
   "execution_count": 145,
   "metadata": {},
   "outputs": [],
   "source": [
    "def getCustomerCountFromDb(dbCursor):\n",
    "    dbCursor.execute('SELECT * FROM bank_custs')\n",
    "    dbCursor.fetchall()\n",
    "    return dbCursor.rowcount\n"
   ]
  },
  {
   "cell_type": "code",
   "execution_count": 146,
   "metadata": {},
   "outputs": [],
   "source": [
    "def getAccCountFromDb(dbCursor):\n",
    "    dbCursor.execute('SELECT * FROM bank_accs')\n",
    "    dbCursor.fetchall()\n",
    "    return dbCursor.rowcount\n"
   ]
  },
  {
   "cell_type": "code",
   "execution_count": 173,
   "metadata": {},
   "outputs": [],
   "source": [
    "def addAccToDb(dbCon, dbCursor, accNo, accType, accName,\n",
    "               primCustId, jtCustId, createDate, updateDate, balance):\n",
    "    query = f'''\n",
    "        INSERT INTO bank_accs(accno, acctype, accname, maincustid, jtcustid,\n",
    "            createdate, updatedate, balance) VALUES(\n",
    "            \"{accNo}\", \"{accType}\", \"{accName}\", \n",
    "            {primCustId}, {jtCustId}, \n",
    "            \"{createDate}\", \"{updateDate}\", {balance})\n",
    "    '''\n",
    "    dbCursor.execute(query)\n",
    "    dbCon.commit()\n",
    "    \n",
    "    # dbCursor.rowcount will have number of rows inserted\n",
    "    insertedRowCount = dbCursor.rowcount\n",
    "        \n",
    "    return insertedRowCount\n"
   ]
  },
  {
   "cell_type": "code",
   "execution_count": 162,
   "metadata": {},
   "outputs": [],
   "source": [
    "def fetchAccDetailsFromDb(dbCursor, accNo):\n",
    "    query = f'SELECT * FROM bank_accs WHERE accno = \"{accNo}\"'\n",
    "    dbCursor.execute(query)\n",
    "    data = dbCursor.fetchone()\n",
    "    if (dbCursor.rowcount > 0):\n",
    "        return data\n",
    "    else:\n",
    "        return None"
   ]
  },
  {
   "cell_type": "code",
   "execution_count": 179,
   "metadata": {},
   "outputs": [],
   "source": [
    "def deleteAccFromDb(dbCon, dbCursor, accNo):\n",
    "    query = f'DELETE FROM bank_accs WHERE accno = \"{accNo}\"'\n",
    "    dbCursor.execute(query)\n",
    "    dbCon.commit()\n",
    "    \n",
    "    deletedRowCount = dbCursor.rowcount\n",
    "        \n",
    "    return deletedRowCount\n",
    "    "
   ]
  },
  {
   "cell_type": "code",
   "execution_count": 193,
   "metadata": {},
   "outputs": [],
   "source": [
    "def updateAccInDb(dbCon, dbCursor, accNo, balance, updateDt):\n",
    "    query = f'''\n",
    "        UPDATE bank_accs SET \n",
    "            balance = {balance}, \n",
    "            updatedate = \"{updateDt}\"\n",
    "        WHERE accno = \"{accNo}\"\n",
    "    '''\n",
    "    dbCursor.execute(query)\n",
    "    dbCon.commit()\n",
    "    \n",
    "    updatedRowCount = dbCursor.rowcount\n",
    "        \n",
    "    return updatedRowCount\n",
    "    "
   ]
  },
  {
   "cell_type": "code",
   "execution_count": 28,
   "metadata": {},
   "outputs": [],
   "source": [
    "def closeDbConnection(dbCon, dbCursor):\n",
    "    dbCursor.fetchall()\n",
    "    dbCursor.close()\n",
    "    dbCon.close()\n",
    "    return (None, None)\n"
   ]
  },
  {
   "cell_type": "markdown",
   "metadata": {},
   "source": [
    "# `menu.py`"
   ]
  },
  {
   "cell_type": "code",
   "execution_count": 8,
   "metadata": {},
   "outputs": [],
   "source": [
    "#######################################################################\n",
    "#                           DISPLAY MENU\n",
    "#######################################################################\n",
    "\n",
    "def displayMenu():\n",
    "    print('+--------------------------------------------+')\n",
    "    print('| BANK OPERATION MENU                        |')\n",
    "    print('|                                            |')\n",
    "    print('|   Available operations                     |')\n",
    "    print('|                                            |')\n",
    "    print('|   1. Create customer                       |')\n",
    "    print('|   2. Get customer details                  |')\n",
    "    print('|   3. Update customer details               |')\n",
    "    print('|   4. Delete customer                       |')\n",
    "    print('|   5. Open bank account                     |')\n",
    "    print('|   6. Get account details                   |')\n",
    "    print('|   7. Delete bank account                   |')\n",
    "    print('|   8. Transact                              |')\n",
    "    print('|   9. Quit                                  |')\n",
    "    print('+--------------------------------------------+\\n')    \n"
   ]
  },
  {
   "cell_type": "markdown",
   "metadata": {},
   "source": [
    "# `main.py`"
   ]
  },
  {
   "cell_type": "markdown",
   "metadata": {},
   "source": []
  },
  {
   "cell_type": "code",
   "execution_count": 75,
   "metadata": {},
   "outputs": [],
   "source": [
    "def getCustInfo():\n",
    "    print('ENTER CUSTOMER DETAILS')\n",
    "    name = input('  Customer name? ')\n",
    "    mobile = input('  Mobile number? ')\n",
    "    address = input('  Address? ')\n",
    "    \n",
    "    return (name, mobile, address)"
   ]
  },
  {
   "cell_type": "code",
   "execution_count": 90,
   "metadata": {},
   "outputs": [],
   "source": [
    "def newCustomer(dbCon, dbCursor):\n",
    "    (name, mobile, address) = getCustInfo()\n",
    "    (insertedRowCount, newCustId) = addCustToDb(\n",
    "        dbCon, dbCursor, name, mobile, address)\n",
    "    print(insertedRowCount, 'new customer added. custid:', newCustId)\n",
    "    "
   ]
  },
  {
   "cell_type": "code",
   "execution_count": 119,
   "metadata": {},
   "outputs": [],
   "source": [
    "def getCustomerDetails(dbCursor):\n",
    "    custid = input('Enter custid: ')\n",
    "    data = fetchCustomerDetailsFromDb(dbCursor, custid)\n",
    "    if data != None:\n",
    "        print('CUSTOMER DETAILS')\n",
    "        print('(custid, custname, mobile, address)')\n",
    "        print(data)\n",
    "    else:\n",
    "        print('Customer NOT found! custid =', custid)\n",
    "\n",
    "    "
   ]
  },
  {
   "cell_type": "code",
   "execution_count": 133,
   "metadata": {},
   "outputs": [],
   "source": [
    "def updateCustomerDetails(dbCon, dbCursor):\n",
    "    custid = input('Enter custid to update: ')\n",
    "    # get existing details\n",
    "    existingData = fetchCustomerDetailsFromDb(dbCursor, custid)\n",
    "    if existingData != None:\n",
    "        print('Enter updated information, leave empty if no change...')\n",
    "        newName = input('  New name? ')\n",
    "        if newName == '':\n",
    "            newName = existingData[1]\n",
    "        newMobile = input('  New mobile number? ')\n",
    "        if newMobile == '':\n",
    "            newMobile = existingData[2]\n",
    "        newAddress = input('  New address? ')\n",
    "        if newAddress == '':\n",
    "            newAddress = existingData[3]\n",
    "        count = updateCustomerDetailsInDb(dbCon, dbCursor, custid,\n",
    "                                          newName, newMobile,\n",
    "                                          newAddress)\n",
    "        if count == 1:\n",
    "            print('Customer details update successful.')\n",
    "        else:\n",
    "            print('[ERROR] Customer details update failed!')\n",
    "    else:\n",
    "        print('Customer NOT found! custid =', custid)\n"
   ]
  },
  {
   "cell_type": "code",
   "execution_count": 141,
   "metadata": {},
   "outputs": [],
   "source": [
    "def deleteCustomer(dbCon, dbCursor):\n",
    "    custid = input('Enter custid to delete: ')\n",
    "    count = deleteCustomerFromDb(dbCon, dbCursor, custid)\n",
    "    if count == 1:\n",
    "        print('Deleted customer, custid:', custid)\n",
    "    else:\n",
    "        print('[ERROR] Delete customer failed! custid:', custid)\n"
   ]
  },
  {
   "cell_type": "code",
   "execution_count": 158,
   "metadata": {},
   "outputs": [],
   "source": [
    "def openBankAcc(dbCon, dbCursor):\n",
    "    print('CREATING A NEW BANK ACCOUNT')\n",
    "    \n",
    "    # Choose account type\n",
    "    accType = \"SBAC\"\n",
    "    prefix = 'S'\n",
    "    print('\\n  Step 1 - Account Type Selection')\n",
    "    print('  1. Savings\\n  2. Current\\n  3. Fixed deposit)\\n')\n",
    "    typeInp = int(input('Choose account type (1/2/3): '))\n",
    "    if typeInp == 1:\n",
    "        accType = \"SBAC\"\n",
    "        accName = 'Savings Account'\n",
    "        prefix = 'S'\n",
    "    elif typeInp == 2:\n",
    "        accType = \"CUAC\"\n",
    "        accName = 'Current Account'\n",
    "        prefix = 'C'\n",
    "    elif typeInp == 3:\n",
    "        accType = \"FDAC\"\n",
    "        accName = 'Fixed Account'\n",
    "        prefix = 'F'\n",
    "    else:\n",
    "        print('> [ERROR] Failed! Wrong account type ({typeInp})!')\n",
    "        return False\n",
    "    \n",
    "    # Main customer details\n",
    "    print('\\n  Step 2 - Primary Customer Selection')\n",
    "    primCustId = input('  Enter custid of primary Customer: ')\n",
    "    data = fetchCustomerDetailsFromDb(dbCursor, primCustId)\n",
    "    if data == None:\n",
    "        print('[ERROR] Failed to open acc. No such primary customer!')\n",
    "        return False\n",
    "    \n",
    "    # Joint customer details\n",
    "    print('\\n  Step 3 - Joint Customer Selection')\n",
    "    isJtAcc = input('  Any joint customer (y/n)? ')\n",
    "    if isJtAcc == 'y':\n",
    "        jtCustId = input('  Enter custid of joint Customer: ')\n",
    "        data = fetchCustomerDetailsFromDb(dbCursor, jtCustId)\n",
    "        if data == None:\n",
    "            print('[ERROR] Failed to open acc. No such joint customer!')\n",
    "            return False\n",
    "    else:\n",
    "        jtCustId = primCustId\n",
    "    \n",
    "    # Creation date\n",
    "    print('\\n  Step 4 - Enter creation date')\n",
    "    createDate = input('  Create date (YYYY-MM-DD)? ')\n",
    "    \n",
    "    # Initial balance\n",
    "    balance = float(input(' Enter initial account balance: '))\n",
    "    \n",
    "    # Make a unique account no based on number of existing accounts\n",
    "    accCount = getAccCountFromDb(dbCursor)\n",
    "    accNo = prefix + str(accCount + 1)\n",
    "    \n",
    "    insertedRowCount = addAccToDb(dbCon, dbCursor, \n",
    "                                  accNo, accType, accName,\n",
    "                                  primCustId, jtCustId,\n",
    "                                  createDate, createDate, balance)\n",
    "    \n",
    "    if insertedRowCount == 1:\n",
    "        print('Successfully opened account.')\n",
    "        return True\n",
    "    else:\n",
    "        print('[ERROR] Failed to open account.')\n",
    "        return False\n"
   ]
  },
  {
   "cell_type": "code",
   "execution_count": 166,
   "metadata": {},
   "outputs": [],
   "source": [
    "def getAccDetails(dbCursor):\n",
    "    accNo = input('Enter accNo: ')\n",
    "    data = fetchAccDetailsFromDb(dbCursor, accNo)\n",
    "    if data != None:\n",
    "        print('ACCOUNT DETAILS')\n",
    "        print('(accno, acctype, accname, maincustid, jtcustid, '+\n",
    "            'createdate, updatedate, balance)')\n",
    "        print(data)\n",
    "    else:\n",
    "        print('Account NOT found! accNo =', accNo)\n"
   ]
  },
  {
   "cell_type": "code",
   "execution_count": 181,
   "metadata": {},
   "outputs": [],
   "source": [
    "def deleteAcc(dbCon, dbCursor):\n",
    "    accNo = input('Enter accNo to delete: ')\n",
    "    count = deleteAccFromDb(dbCon, dbCursor, accNo)\n",
    "    if count == 1:\n",
    "        print('Successfully deleted account.')\n",
    "    else:\n",
    "        print('[ERROR] Failed to delete account! accNo =', accNo)\n",
    "    "
   ]
  },
  {
   "cell_type": "code",
   "execution_count": 191,
   "metadata": {},
   "outputs": [],
   "source": [
    "def transact(dbCon, dbCursor):\n",
    "    accNo = input('Enter accNo to transact: ')\n",
    "    data = fetchAccDetailsFromDb(dbCursor, accNo)\n",
    "    if data != None:\n",
    "        print('ACCOUNT DETAILS')\n",
    "        print('(accno, acctype, accname, maincustid, jtcustid, '+\n",
    "            'createdate, updatedate, balance)')\n",
    "        print(data)\n",
    "        type = int(input('Select type of transaction ' + \n",
    "                        '(1. Withdraw 2. Deposit): '))\n",
    "        amount = float(input('Enter amount: '))\n",
    "        balance = float(data[7])\n",
    "        if type == 1:\n",
    "            if amount > data[7]:\n",
    "                print('[ERROR] Withdraw error! Insufficient balance.')\n",
    "                return False\n",
    "            else:\n",
    "                balance -= amount\n",
    "        elif type == 2:\n",
    "            balance += amount\n",
    "            \n",
    "        updateDt = input('  Update date (YYYY-MM-DD)? ')\n",
    "        count = updateAccInDb(dbCon, dbCursor, accNo, balance, updateDt)\n",
    "        if count == 1:\n",
    "            print('Transaction successful.')\n",
    "            return True\n",
    "        else:\n",
    "            print('[ERROR] Transaction failed!')\n",
    "            return False       \n",
    "    else:\n",
    "        print('Account NOT found! accNo =', accNo)\n",
    "        return False\n",
    "        "
   ]
  },
  {
   "cell_type": "code",
   "execution_count": 198,
   "metadata": {},
   "outputs": [
    {
     "name": "stdout",
     "output_type": "stream",
     "text": [
      "**************************\n",
      "* BANK MANAGEMENT SYSTEM *\n",
      "**************************\n"
     ]
    }
   ],
   "source": [
    "# print a banner\n",
    "print('**************************')\n",
    "print('* BANK MANAGEMENT SYSTEM *')\n",
    "print('**************************')\n"
   ]
  },
  {
   "cell_type": "code",
   "execution_count": 199,
   "metadata": {},
   "outputs": [],
   "source": [
    "CORRECT_USER_NAME = 'maharnab'\n",
    "CORRECT_PASSWORD = 'maharnab'\n"
   ]
  },
  {
   "cell_type": "code",
   "execution_count": 200,
   "metadata": {},
   "outputs": [
    {
     "name": "stdout",
     "output_type": "stream",
     "text": [
      "ENTER CREDENTIALS TO LOG IN TO THE SYSTEM\n",
      "(Maximum 3 login attempts are allowed)\n",
      "\n",
      "> Credentials verified successfully...\n"
     ]
    }
   ],
   "source": [
    "# Login to the system\n",
    "print('ENTER CREDENTIALS TO LOG IN TO THE SYSTEM')\n",
    "print('(Maximum 3 login attempts are allowed)\\n')\n",
    "\n",
    "userName = ''\n",
    "password = ''\n",
    "\n",
    "# Should fail after 3 login attempts\n",
    "for i in range(3):\n",
    "    userName = input('Enter the user name: ')\n",
    "    password = input(f'Enter the password for {userName}: ')\n",
    "    # validate entered username and password\n",
    "    if userName != CORRECT_USER_NAME or password != CORRECT_PASSWORD:\n",
    "        print('> ERROR: Wrong user name or password!')\n",
    "        print('> Remaining', 3-i-1, 'attempts!')\n",
    "    else:\n",
    "        print('> Credentials verified successfully...')\n",
    "        break\n",
    "else:\n",
    "    print('> [ERROR] Failed to login! EXIT!')\n",
    "    ######################## UNCOMMENT ########################\n",
    "    # quit()\n"
   ]
  },
  {
   "cell_type": "code",
   "execution_count": 201,
   "metadata": {},
   "outputs": [
    {
     "name": "stdout",
     "output_type": "stream",
     "text": [
      "> Initiailizing bank management system...\n",
      "> Logging into the database...\n",
      "> Successfully logged into the database...\n"
     ]
    }
   ],
   "source": [
    "# connect to mysql\n",
    "print('> Initiailizing bank management system...')\n",
    "print('> Logging into the database...')\n",
    "dbCon, dbCursor = connectToDb(userName, password)\n",
    "if dbCon == None:\n",
    "    print('> [ERROR] Failed to log into the database. EXIT')\n",
    "    # quit\n",
    "else:\n",
    "    print('> Successfully logged into the database...')\n"
   ]
  },
  {
   "cell_type": "code",
   "execution_count": 202,
   "metadata": {},
   "outputs": [],
   "source": [
    "createDb(dbCon, dbCursor)\n"
   ]
  },
  {
   "cell_type": "code",
   "execution_count": 203,
   "metadata": {},
   "outputs": [
    {
     "name": "stdout",
     "output_type": "stream",
     "text": [
      "> Checking accounts table...\n",
      "> Found details of 0 accounts...\n",
      "> Checking customer table...\n",
      "> Found details of 0 customers...\n"
     ]
    }
   ],
   "source": [
    "# check accounts table\n",
    "print('> Checking accounts table...')\n",
    "accountTableName = 'bank_accs'\n",
    "existingAccs = createAccTable(dbCon, dbCursor) \n",
    "print(f'> Found details of {existingAccs} accounts...')\n",
    "\n",
    "# check customer table\n",
    "print('> Checking customer table...')\n",
    "customerTableName='bank_custs'\n",
    "existingCusts = createCustTable(dbCon, dbCursor) \n",
    "print(f'> Found details of {existingCusts} customers...')\n"
   ]
  },
  {
   "cell_type": "code",
   "execution_count": 204,
   "metadata": {},
   "outputs": [
    {
     "name": "stdout",
     "output_type": "stream",
     "text": [
      "+--------------------------------------------+\n",
      "| BANK OPERATION MENU                        |\n",
      "|                                            |\n",
      "|   Available operations                     |\n",
      "|                                            |\n",
      "|   1. Open bank account                     |\n",
      "|   2. Get account details                   |\n",
      "|   3. Delete bank account                   |\n",
      "|   4. Transact                              |\n",
      "|   5. Get customer details                  |\n",
      "|   6. Update customer details               |\n",
      "|   7. Delete customer                       |\n",
      "|   8. Clear screen and show menu            |\n",
      "|   9. Quit                                  |\n",
      "+--------------------------------------------+\n",
      "\n",
      "Bye!\n"
     ]
    }
   ],
   "source": [
    "choice = 0\n",
    "while choice != 9:\n",
    "    displayMenu()\n",
    "    choice = int(input('>>> Enter your choice [1-9]:'))\n",
    "    if choice == 1:\n",
    "        newCustomer(dbCon, dbCursor)\n",
    "    elif choice == 2:\n",
    "        getCustomerDetails(dbCursor)\n",
    "    elif choice == 3:\n",
    "        updateCustomerDetails(dbCon, dbCursor)\n",
    "    elif choice == 4:\n",
    "        deleteCustomer(dbCon, dbCursor)\n",
    "    elif choice == 5:\n",
    "        openBankAcc(dbCon, dbCursor)\n",
    "    elif choice == 6:\n",
    "        getAccDetails(dbCursor)\n",
    "    elif choice == 7:\n",
    "        deleteAcc(dbCon, dbCursor)\n",
    "    elif choice == 8:\n",
    "        transact(dbCon, dbCursor)\n",
    "    elif choice == 9:\n",
    "        print('Bye!')\n",
    "        closeDbConnection(dbCon, dbCursor)\n",
    "    else:\n",
    "        print('[ERROR] Invalid choice. Select right operation.')\n",
    "        choice = 0\n"
   ]
  }
 ],
 "metadata": {
  "kernelspec": {
   "display_name": "base",
   "language": "python",
   "name": "python3"
  },
  "language_info": {
   "codemirror_mode": {
    "name": "ipython",
    "version": 3
   },
   "file_extension": ".py",
   "mimetype": "text/x-python",
   "name": "python",
   "nbconvert_exporter": "python",
   "pygments_lexer": "ipython3",
   "version": "3.11.5"
  }
 },
 "nbformat": 4,
 "nbformat_minor": 2
}
